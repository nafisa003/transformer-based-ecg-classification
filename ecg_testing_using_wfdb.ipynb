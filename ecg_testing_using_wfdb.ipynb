{
  "nbformat": 4,
  "nbformat_minor": 0,
  "metadata": {
    "colab": {
      "provenance": []
    },
    "kernelspec": {
      "name": "python3",
      "display_name": "Python 3"
    },
    "language_info": {
      "name": "python"
    },
    "accelerator": "GPU",
    "gpuClass": "standard"
  },
  "cells": [
    {
      "cell_type": "code",
      "execution_count": null,
      "metadata": {
        "id": "8VRt1bV9morQ"
      },
      "outputs": [],
      "source": []
    },
    {
      "cell_type": "code",
      "execution_count": null,
      "metadata": {
        "id": "3M15P38ZFsS2",
        "colab": {
          "base_uri": "https://localhost:8080/"
        },
        "outputId": "00d11654-a452-4f57-b912-a219b732f721"
      },
      "outputs": [
        {
          "output_type": "stream",
          "name": "stdout",
          "text": [
            "Looking in indexes: https://pypi.org/simple, https://us-python.pkg.dev/colab-wheels/public/simple/\n",
            "Collecting wfdb\n",
            "  Downloading wfdb-4.1.0-py3-none-any.whl (159 kB)\n",
            "\u001b[2K     \u001b[90m━━━━━━━━━━━━━━━━━━━━━━━━━━━━━━━━━━━━━━\u001b[0m \u001b[32m159.9/159.9 KB\u001b[0m \u001b[31m12.6 MB/s\u001b[0m eta \u001b[36m0:00:00\u001b[0m\n",
            "\u001b[?25hRequirement already satisfied: requests<3.0.0,>=2.8.1 in /usr/local/lib/python3.9/dist-packages (from wfdb) (2.27.1)\n",
            "Requirement already satisfied: numpy<2.0.0,>=1.10.1 in /usr/local/lib/python3.9/dist-packages (from wfdb) (1.22.4)\n",
            "Requirement already satisfied: pandas<2.0.0,>=1.0.0 in /usr/local/lib/python3.9/dist-packages (from wfdb) (1.4.4)\n",
            "Collecting SoundFile<0.12.0,>=0.10.0\n",
            "  Downloading soundfile-0.11.0-py2.py3-none-any.whl (23 kB)\n",
            "Requirement already satisfied: matplotlib<4.0.0,>=3.2.2 in /usr/local/lib/python3.9/dist-packages (from wfdb) (3.7.1)\n",
            "Requirement already satisfied: scipy<2.0.0,>=1.0.0 in /usr/local/lib/python3.9/dist-packages (from wfdb) (1.10.1)\n",
            "Requirement already satisfied: contourpy>=1.0.1 in /usr/local/lib/python3.9/dist-packages (from matplotlib<4.0.0,>=3.2.2->wfdb) (1.0.7)\n",
            "Requirement already satisfied: fonttools>=4.22.0 in /usr/local/lib/python3.9/dist-packages (from matplotlib<4.0.0,>=3.2.2->wfdb) (4.39.0)\n",
            "Requirement already satisfied: packaging>=20.0 in /usr/local/lib/python3.9/dist-packages (from matplotlib<4.0.0,>=3.2.2->wfdb) (23.0)\n",
            "Requirement already satisfied: pyparsing>=2.3.1 in /usr/local/lib/python3.9/dist-packages (from matplotlib<4.0.0,>=3.2.2->wfdb) (3.0.9)\n",
            "Requirement already satisfied: kiwisolver>=1.0.1 in /usr/local/lib/python3.9/dist-packages (from matplotlib<4.0.0,>=3.2.2->wfdb) (1.4.4)\n",
            "Requirement already satisfied: python-dateutil>=2.7 in /usr/local/lib/python3.9/dist-packages (from matplotlib<4.0.0,>=3.2.2->wfdb) (2.8.2)\n",
            "Requirement already satisfied: cycler>=0.10 in /usr/local/lib/python3.9/dist-packages (from matplotlib<4.0.0,>=3.2.2->wfdb) (0.11.0)\n",
            "Requirement already satisfied: importlib-resources>=3.2.0 in /usr/local/lib/python3.9/dist-packages (from matplotlib<4.0.0,>=3.2.2->wfdb) (5.12.0)\n",
            "Requirement already satisfied: pillow>=6.2.0 in /usr/local/lib/python3.9/dist-packages (from matplotlib<4.0.0,>=3.2.2->wfdb) (8.4.0)\n",
            "Requirement already satisfied: pytz>=2020.1 in /usr/local/lib/python3.9/dist-packages (from pandas<2.0.0,>=1.0.0->wfdb) (2022.7.1)\n",
            "Requirement already satisfied: certifi>=2017.4.17 in /usr/local/lib/python3.9/dist-packages (from requests<3.0.0,>=2.8.1->wfdb) (2022.12.7)\n",
            "Requirement already satisfied: idna<4,>=2.5 in /usr/local/lib/python3.9/dist-packages (from requests<3.0.0,>=2.8.1->wfdb) (3.4)\n",
            "Requirement already satisfied: urllib3<1.27,>=1.21.1 in /usr/local/lib/python3.9/dist-packages (from requests<3.0.0,>=2.8.1->wfdb) (1.26.15)\n",
            "Requirement already satisfied: charset-normalizer~=2.0.0 in /usr/local/lib/python3.9/dist-packages (from requests<3.0.0,>=2.8.1->wfdb) (2.0.12)\n",
            "Requirement already satisfied: cffi>=1.0 in /usr/local/lib/python3.9/dist-packages (from SoundFile<0.12.0,>=0.10.0->wfdb) (1.15.1)\n",
            "Requirement already satisfied: pycparser in /usr/local/lib/python3.9/dist-packages (from cffi>=1.0->SoundFile<0.12.0,>=0.10.0->wfdb) (2.21)\n",
            "Requirement already satisfied: zipp>=3.1.0 in /usr/local/lib/python3.9/dist-packages (from importlib-resources>=3.2.0->matplotlib<4.0.0,>=3.2.2->wfdb) (3.15.0)\n",
            "Requirement already satisfied: six>=1.5 in /usr/local/lib/python3.9/dist-packages (from python-dateutil>=2.7->matplotlib<4.0.0,>=3.2.2->wfdb) (1.15.0)\n",
            "Installing collected packages: SoundFile, wfdb\n",
            "  Attempting uninstall: SoundFile\n",
            "    Found existing installation: soundfile 0.12.1\n",
            "    Uninstalling soundfile-0.12.1:\n",
            "      Successfully uninstalled soundfile-0.12.1\n",
            "\u001b[31mERROR: pip's dependency resolver does not currently take into account all the packages that are installed. This behaviour is the source of the following dependency conflicts.\n",
            "librosa 0.10.0 requires soundfile>=0.12.1, but you have soundfile 0.11.0 which is incompatible.\u001b[0m\u001b[31m\n",
            "\u001b[0mSuccessfully installed SoundFile-0.11.0 wfdb-4.1.0\n"
          ]
        }
      ],
      "source": [
        "%pip install wfdb\n",
        "# %pip install PyWavelets"
      ]
    },
    {
      "cell_type": "code",
      "execution_count": null,
      "metadata": {
        "colab": {
          "base_uri": "https://localhost:8080/"
        },
        "id": "TckAq68-z_tp",
        "outputId": "5c530f98-9b89-4214-f616-d3ee6869dae4"
      },
      "outputs": [
        {
          "output_type": "stream",
          "name": "stdout",
          "text": [
            "Looking in indexes: https://pypi.org/simple, https://us-python.pkg.dev/colab-wheels/public/simple/\n",
            "Collecting biosppy\n",
            "  Downloading biosppy-1.0.0-py2.py3-none-any.whl (106 kB)\n",
            "\u001b[2K     \u001b[90m━━━━━━━━━━━━━━━━━━━━━━━━━━━━━━━━━━━━━━━\u001b[0m \u001b[32m107.0/107.0 KB\u001b[0m \u001b[31m8.1 MB/s\u001b[0m eta \u001b[36m0:00:00\u001b[0m\n",
            "\u001b[?25hRequirement already satisfied: numpy in /usr/local/lib/python3.9/dist-packages (from biosppy) (1.22.4)\n",
            "Requirement already satisfied: h5py in /usr/local/lib/python3.9/dist-packages (from biosppy) (3.8.0)\n",
            "Requirement already satisfied: joblib in /usr/local/lib/python3.9/dist-packages (from biosppy) (1.1.1)\n",
            "Collecting bidict\n",
            "  Downloading bidict-0.22.1-py3-none-any.whl (35 kB)\n",
            "Requirement already satisfied: six in /usr/local/lib/python3.9/dist-packages (from biosppy) (1.15.0)\n",
            "Requirement already satisfied: scipy in /usr/local/lib/python3.9/dist-packages (from biosppy) (1.10.1)\n",
            "Requirement already satisfied: matplotlib in /usr/local/lib/python3.9/dist-packages (from biosppy) (3.7.1)\n",
            "Requirement already satisfied: opencv-python in /usr/local/lib/python3.9/dist-packages (from biosppy) (4.6.0.66)\n",
            "Collecting shortuuid\n",
            "  Downloading shortuuid-1.0.11-py3-none-any.whl (10 kB)\n",
            "Requirement already satisfied: scikit-learn in /usr/local/lib/python3.9/dist-packages (from biosppy) (1.2.2)\n",
            "Requirement already satisfied: pyparsing>=2.3.1 in /usr/local/lib/python3.9/dist-packages (from matplotlib->biosppy) (3.0.9)\n",
            "Requirement already satisfied: python-dateutil>=2.7 in /usr/local/lib/python3.9/dist-packages (from matplotlib->biosppy) (2.8.2)\n",
            "Requirement already satisfied: contourpy>=1.0.1 in /usr/local/lib/python3.9/dist-packages (from matplotlib->biosppy) (1.0.7)\n",
            "Requirement already satisfied: kiwisolver>=1.0.1 in /usr/local/lib/python3.9/dist-packages (from matplotlib->biosppy) (1.4.4)\n",
            "Requirement already satisfied: pillow>=6.2.0 in /usr/local/lib/python3.9/dist-packages (from matplotlib->biosppy) (8.4.0)\n",
            "Requirement already satisfied: importlib-resources>=3.2.0 in /usr/local/lib/python3.9/dist-packages (from matplotlib->biosppy) (5.12.0)\n",
            "Requirement already satisfied: cycler>=0.10 in /usr/local/lib/python3.9/dist-packages (from matplotlib->biosppy) (0.11.0)\n",
            "Requirement already satisfied: fonttools>=4.22.0 in /usr/local/lib/python3.9/dist-packages (from matplotlib->biosppy) (4.39.0)\n",
            "Requirement already satisfied: packaging>=20.0 in /usr/local/lib/python3.9/dist-packages (from matplotlib->biosppy) (23.0)\n",
            "Requirement already satisfied: threadpoolctl>=2.0.0 in /usr/local/lib/python3.9/dist-packages (from scikit-learn->biosppy) (3.1.0)\n",
            "Requirement already satisfied: zipp>=3.1.0 in /usr/local/lib/python3.9/dist-packages (from importlib-resources>=3.2.0->matplotlib->biosppy) (3.15.0)\n",
            "Installing collected packages: shortuuid, bidict, biosppy\n",
            "Successfully installed bidict-0.22.1 biosppy-1.0.0 shortuuid-1.0.11\n"
          ]
        }
      ],
      "source": [
        "%pip install biosppy"
      ]
    },
    {
      "cell_type": "code",
      "execution_count": null,
      "metadata": {
        "id": "uiT2INJWxsrq"
      },
      "outputs": [],
      "source": [
        "import numpy as np\n",
        "import matplotlib.pyplot as plt\n",
        "import seaborn as sns\n",
        "import pandas as pd\n",
        "import wfdb\n",
        "import glob\n",
        "from wfdb import processing\n",
        "import pywt\n",
        "from scipy import stats\n",
        "import scipy\n",
        "from scipy import *\n",
        "sns.set()"
      ]
    },
    {
      "cell_type": "code",
      "source": [],
      "metadata": {
        "id": "wyqtoBMcpnZu"
      },
      "execution_count": null,
      "outputs": []
    },
    {
      "cell_type": "code",
      "execution_count": null,
      "metadata": {
        "colab": {
          "base_uri": "https://localhost:8080/"
        },
        "id": "2GKL8l8_y9Au",
        "outputId": "f1a9a8be-c1f1-41ff-ec91-062755dc0791"
      },
      "outputs": [
        {
          "output_type": "stream",
          "name": "stdout",
          "text": [
            "['/content/sample_data/mit-bih/100', '/content/sample_data/mit-bih/101', '/content/sample_data/mit-bih/102', '/content/sample_data/mit-bih/103', '/content/sample_data/mit-bih/104', '/content/sample_data/mit-bih/105', '/content/sample_data/mit-bih/106', '/content/sample_data/mit-bih/107', '/content/sample_data/mit-bih/108', '/content/sample_data/mit-bih/109', '/content/sample_data/mit-bih/111', '/content/sample_data/mit-bih/112', '/content/sample_data/mit-bih/113', '/content/sample_data/mit-bih/114', '/content/sample_data/mit-bih/115', '/content/sample_data/mit-bih/116', '/content/sample_data/mit-bih/117', '/content/sample_data/mit-bih/118', '/content/sample_data/mit-bih/119', '/content/sample_data/mit-bih/121', '/content/sample_data/mit-bih/122', '/content/sample_data/mit-bih/123', '/content/sample_data/mit-bih/124', '/content/sample_data/mit-bih/200', '/content/sample_data/mit-bih/201', '/content/sample_data/mit-bih/202', '/content/sample_data/mit-bih/203', '/content/sample_data/mit-bih/205', '/content/sample_data/mit-bih/207', '/content/sample_data/mit-bih/208', '/content/sample_data/mit-bih/209', '/content/sample_data/mit-bih/210', '/content/sample_data/mit-bih/212', '/content/sample_data/mit-bih/213', '/content/sample_data/mit-bih/214', '/content/sample_data/mit-bih/215', '/content/sample_data/mit-bih/217', '/content/sample_data/mit-bih/219', '/content/sample_data/mit-bih/220', '/content/sample_data/mit-bih/221', '/content/sample_data/mit-bih/222', '/content/sample_data/mit-bih/223', '/content/sample_data/mit-bih/228', '/content/sample_data/mit-bih/230', '/content/sample_data/mit-bih/231', '/content/sample_data/mit-bih/232', '/content/sample_data/mit-bih/233', '/content/sample_data/mit-bih/234']\n"
          ]
        }
      ],
      "source": [
        "data_files = glob.glob('/content/sample_data/mit-bih/*.atr')\n",
        "data_files = [i[:-4] for i in data_files] #storing record without any file extension\n",
        "data_files.sort()\n",
        "print(data_files)"
      ]
    },
    {
      "cell_type": "code",
      "execution_count": null,
      "metadata": {
        "colab": {
          "base_uri": "https://localhost:8080/",
          "height": 447
        },
        "id": "m8erE6dFzZcI",
        "outputId": "c5cb2f2e-e021-43f7-ce85-ee5edef28114"
      },
      "outputs": [
        {
          "output_type": "stream",
          "name": "stdout",
          "text": [
            "{'N': 75052, 'A': 2546, 'V': 7130, 'Q': 33, '/': 7028, 'f': 982, 'F': 803, 'j': 229, 'L': 8075, 'a': 150, 'J': 83, 'R': 7259, 'E': 106, 'S': 2, 'e': 16}\n"
          ]
        },
        {
          "output_type": "display_data",
          "data": {
            "text/plain": [
              "<Figure size 864x432 with 1 Axes>"
            ],
            "image/png": "[encoded data removed]"
          },
          "metadata": {}
        }
      ],
      "source": [
        "import wfdb as wf\n",
        "import numpy as np\n",
        "import glob\n",
        "from matplotlib import pyplot as plt\n",
        "from biosppy.signals import ecg\n",
        "from scipy import signal\n",
        "\n",
        "def extract_data():\n",
        "    data_files = glob.glob('/content/sample_data/mit-bih/*.atr')\n",
        "    data_files = [i[:-4] for i in data_files]\n",
        "    data_files.sort()\n",
        "    return data_files\n",
        "\n",
        "files = extract_data()\n",
        "i=0\n",
        "\n",
        "good_beats =['N','L','R','B','A','a','J','S','V','r',\n",
        "             'F','e','j','n','E','/','f','Q','?']\n",
        "list_anns = []\n",
        "\n",
        "for i in range(len(files)):\n",
        "    datfile = files[i]\n",
        "    record = wf.rdsamp(datfile)\n",
        "    ann = wf.rdann(datfile, 'atr')\n",
        "    list_anns.extend(ann.symbol)\n",
        "\n",
        "dict_anns = {}\n",
        "\n",
        "for i in list_anns:\n",
        "    dict_anns[i] = dict_anns.get(i,0)+1\n",
        "    \n",
        "dict_anns = {k:v for k,v in dict_anns.items() if k in good_beats}\n",
        "\n",
        "print(dict_anns)\n",
        "# print(dict_anns.values())\n",
        "\n",
        "plt.figure(figsize=(12,6))\n",
        "\n",
        "xlocs, xlabs = plt.xticks()\n",
        "barplt = plt.bar(list(dict_anns.keys()),dict_anns.values(),width = .6)\n",
        "xlocs = [j for j in dict_anns.keys()]\n",
        "ylabs = [j for j in dict_anns.values()]\n",
        "\n",
        "plt.title('Annotation Distribution for all Classes in the Dataset')\n",
        "plt.xlabel('Annotations')\n",
        "plt.ylabel('Counts')\n",
        "# figure, ax = plt.subplots()\n",
        "# bar_container = ax.bar(dict_anns.keys(),dict_anns.values())\n",
        "# ax.set(ylabel='pints sold', title='Gelato sales by flavor', ylim=(0, 8000))\n",
        "# ax.bar_label(bar_container, fmt='{:,.0f}')\n",
        "for bar in barplt:\n",
        "    yval = bar.get_height()\n",
        "    # yval2=str(yval)\n",
        "    if yval>9999:\n",
        "       yval2='{:,}'.format(yval)\n",
        "       plt.text(bar.get_x(), yval+1000, yval2)\n",
        "    else:\n",
        "      plt.text(bar.get_x(), yval+1000, yval)\n",
        "    \n",
        "    \n",
        "plt.show()"
      ]
    },
    {
      "cell_type": "code",
      "source": [
        "def denoise(data): \n",
        "    w = pywt.Wavelet('db10')\n",
        "    maxlev = pywt.dwt_max_level(len(data), w.dec_len)\n",
        "    threshold = 0.03 # Threshold for filtering\n",
        "\n",
        "    coeffs = pywt.wavedec(data, 'db10', level=maxlev)\n",
        "    for i in range(1, len(coeffs)):\n",
        "        coeffs[i] = pywt.threshold(coeffs[i], threshold*max(coeffs[i]))\n",
        "        \n",
        "    datarec = pywt.waverec(coeffs, 'db10')\n",
        "    \n",
        "    return datarec"
      ],
      "metadata": {
        "id": "LoWyjXbq8UGf"
      },
      "execution_count": null,
      "outputs": []
    },
    {
      "cell_type": "code",
      "execution_count": null,
      "metadata": {
        "colab": {
          "base_uri": "https://localhost:8080/"
        },
        "id": "JW5hKbNVzpRf",
        "outputId": "4ed73ad4-74cd-45c4-b359-a807a4635558"
      },
      "outputs": [
        {
          "output_type": "stream",
          "name": "stdout",
          "text": [
            "Total files:  48\n",
            "Loading file: /content/sample_data/mit-bih/100\n",
            "    Sampling frequency used for this record: 360\n",
            "    Shape of loaded data array: (650000, 2)\n",
            "    Number of loaded annotations: 2274\n",
            "    ECG channel type: MLII\n"
          ]
        },
        {
          "output_type": "stream",
          "name": "stderr",
          "text": [
            "<ipython-input-31-1a0c02c408ea>:138: DeprecationWarning: `np.float` is a deprecated alias for the builtin `float`. To silence this warning, use `float` by itself. Doing this will not modify any behavior and is safe. If you specifically wanted the numpy scalar type, use `np.float64` here.\n",
            "Deprecated in NumPy 1.20; for more details and guidance: https://numpy.org/devdocs/release/1.20.0-notes.html#deprecations\n",
            "  savedata = np.array(beats[:], dtype=np.float)\n"
          ]
        },
        {
          "output_type": "stream",
          "name": "stdout",
          "text": [
            "    Generating  /content/sample_data/mit-bih/100_MLII.csv\n",
            "    ECG channel type: V5\n",
            "    Generating  /content/sample_data/mit-bih/100_V5.csv\n",
            "Loading file: /content/sample_data/mit-bih/101\n",
            "    Sampling frequency used for this record: 360\n",
            "    Shape of loaded data array: (650000, 2)\n",
            "    Number of loaded annotations: 1874\n",
            "    ECG channel type: MLII\n"
          ]
        },
        {
          "output_type": "stream",
          "name": "stderr",
          "text": [
            "<ipython-input-31-1a0c02c408ea>:138: DeprecationWarning: `np.float` is a deprecated alias for the builtin `float`. To silence this warning, use `float` by itself. Doing this will not modify any behavior and is safe. If you specifically wanted the numpy scalar type, use `np.float64` here.\n",
            "Deprecated in NumPy 1.20; for more details and guidance: https://numpy.org/devdocs/release/1.20.0-notes.html#deprecations\n",
            "  savedata = np.array(beats[:], dtype=np.float)\n"
          ]
        },
        {
          "output_type": "stream",
          "name": "stdout",
          "text": [
            "    Generating  /content/sample_data/mit-bih/101_MLII.csv\n",
            "    ECG channel type: V1\n",
            "    Generating  /content/sample_data/mit-bih/101_V1.csv\n",
            "Loading file: /content/sample_data/mit-bih/102\n",
            "    Sampling frequency used for this record: 360\n",
            "    Shape of loaded data array: (650000, 2)\n",
            "    Number of loaded annotations: 2192\n",
            "    ECG channel type: V5\n"
          ]
        },
        {
          "output_type": "stream",
          "name": "stderr",
          "text": [
            "<ipython-input-31-1a0c02c408ea>:138: DeprecationWarning: `np.float` is a deprecated alias for the builtin `float`. To silence this warning, use `float` by itself. Doing this will not modify any behavior and is safe. If you specifically wanted the numpy scalar type, use `np.float64` here.\n",
            "Deprecated in NumPy 1.20; for more details and guidance: https://numpy.org/devdocs/release/1.20.0-notes.html#deprecations\n",
            "  savedata = np.array(beats[:], dtype=np.float)\n"
          ]
        },
        {
          "output_type": "stream",
          "name": "stdout",
          "text": [
            "    Generating  /content/sample_data/mit-bih/102_V5.csv\n",
            "    ECG channel type: V2\n",
            "    Generating  /content/sample_data/mit-bih/102_V2.csv\n",
            "Loading file: /content/sample_data/mit-bih/103\n",
            "    Sampling frequency used for this record: 360\n",
            "    Shape of loaded data array: (650000, 2)\n",
            "    Number of loaded annotations: 2091\n",
            "    ECG channel type: MLII\n"
          ]
        },
        {
          "output_type": "stream",
          "name": "stderr",
          "text": [
            "<ipython-input-31-1a0c02c408ea>:138: DeprecationWarning: `np.float` is a deprecated alias for the builtin `float`. To silence this warning, use `float` by itself. Doing this will not modify any behavior and is safe. If you specifically wanted the numpy scalar type, use `np.float64` here.\n",
            "Deprecated in NumPy 1.20; for more details and guidance: https://numpy.org/devdocs/release/1.20.0-notes.html#deprecations\n",
            "  savedata = np.array(beats[:], dtype=np.float)\n"
          ]
        },
        {
          "output_type": "stream",
          "name": "stdout",
          "text": [
            "    Generating  /content/sample_data/mit-bih/103_MLII.csv\n",
            "    ECG channel type: V2\n",
            "    Generating  /content/sample_data/mit-bih/103_V2.csv\n",
            "Loading file: /content/sample_data/mit-bih/104\n",
            "    Sampling frequency used for this record: 360\n",
            "    Shape of loaded data array: (650000, 2)\n",
            "    Number of loaded annotations: 2311\n",
            "    ECG channel type: V5\n"
          ]
        },
        {
          "output_type": "stream",
          "name": "stderr",
          "text": [
            "<ipython-input-31-1a0c02c408ea>:138: DeprecationWarning: `np.float` is a deprecated alias for the builtin `float`. To silence this warning, use `float` by itself. Doing this will not modify any behavior and is safe. If you specifically wanted the numpy scalar type, use `np.float64` here.\n",
            "Deprecated in NumPy 1.20; for more details and guidance: https://numpy.org/devdocs/release/1.20.0-notes.html#deprecations\n",
            "  savedata = np.array(beats[:], dtype=np.float)\n"
          ]
        },
        {
          "output_type": "stream",
          "name": "stdout",
          "text": [
            "    Generating  /content/sample_data/mit-bih/104_V5.csv\n",
            "    ECG channel type: V2\n",
            "    Generating  /content/sample_data/mit-bih/104_V2.csv\n",
            "Loading file: /content/sample_data/mit-bih/105\n",
            "    Sampling frequency used for this record: 360\n",
            "    Shape of loaded data array: (650000, 2)\n",
            "    Number of loaded annotations: 2691\n",
            "    ECG channel type: MLII\n"
          ]
        },
        {
          "output_type": "stream",
          "name": "stderr",
          "text": [
            "<ipython-input-31-1a0c02c408ea>:138: DeprecationWarning: `np.float` is a deprecated alias for the builtin `float`. To silence this warning, use `float` by itself. Doing this will not modify any behavior and is safe. If you specifically wanted the numpy scalar type, use `np.float64` here.\n",
            "Deprecated in NumPy 1.20; for more details and guidance: https://numpy.org/devdocs/release/1.20.0-notes.html#deprecations\n",
            "  savedata = np.array(beats[:], dtype=np.float)\n"
          ]
        },
        {
          "output_type": "stream",
          "name": "stdout",
          "text": [
            "    Generating  /content/sample_data/mit-bih/105_MLII.csv\n",
            "    ECG channel type: V1\n",
            "    Generating  /content/sample_data/mit-bih/105_V1.csv\n",
            "Loading file: /content/sample_data/mit-bih/106\n",
            "    Sampling frequency used for this record: 360\n",
            "    Shape of loaded data array: (650000, 2)\n",
            "    Number of loaded annotations: 2098\n",
            "    ECG channel type: MLII\n"
          ]
        },
        {
          "output_type": "stream",
          "name": "stderr",
          "text": [
            "<ipython-input-31-1a0c02c408ea>:138: DeprecationWarning: `np.float` is a deprecated alias for the builtin `float`. To silence this warning, use `float` by itself. Doing this will not modify any behavior and is safe. If you specifically wanted the numpy scalar type, use `np.float64` here.\n",
            "Deprecated in NumPy 1.20; for more details and guidance: https://numpy.org/devdocs/release/1.20.0-notes.html#deprecations\n",
            "  savedata = np.array(beats[:], dtype=np.float)\n"
          ]
        },
        {
          "output_type": "stream",
          "name": "stdout",
          "text": [
            "    Generating  /content/sample_data/mit-bih/106_MLII.csv\n",
            "    ECG channel type: V1\n",
            "    Generating  /content/sample_data/mit-bih/106_V1.csv\n",
            "Loading file: /content/sample_data/mit-bih/107\n",
            "    Sampling frequency used for this record: 360\n",
            "    Shape of loaded data array: (650000, 2)\n",
            "    Number of loaded annotations: 2140\n",
            "    ECG channel type: MLII\n"
          ]
        },
        {
          "output_type": "stream",
          "name": "stderr",
          "text": [
            "<ipython-input-31-1a0c02c408ea>:138: DeprecationWarning: `np.float` is a deprecated alias for the builtin `float`. To silence this warning, use `float` by itself. Doing this will not modify any behavior and is safe. If you specifically wanted the numpy scalar type, use `np.float64` here.\n",
            "Deprecated in NumPy 1.20; for more details and guidance: https://numpy.org/devdocs/release/1.20.0-notes.html#deprecations\n",
            "  savedata = np.array(beats[:], dtype=np.float)\n"
          ]
        },
        {
          "output_type": "stream",
          "name": "stdout",
          "text": [
            "    Generating  /content/sample_data/mit-bih/107_MLII.csv\n",
            "    ECG channel type: V1\n",
            "    Generating  /content/sample_data/mit-bih/107_V1.csv\n",
            "Loading file: /content/sample_data/mit-bih/108\n",
            "    Sampling frequency used for this record: 360\n",
            "    Shape of loaded data array: (650000, 2)\n",
            "    Number of loaded annotations: 1824\n",
            "    ECG channel type: MLII\n"
          ]
        },
        {
          "output_type": "stream",
          "name": "stderr",
          "text": [
            "<ipython-input-31-1a0c02c408ea>:138: DeprecationWarning: `np.float` is a deprecated alias for the builtin `float`. To silence this warning, use `float` by itself. Doing this will not modify any behavior and is safe. If you specifically wanted the numpy scalar type, use `np.float64` here.\n",
            "Deprecated in NumPy 1.20; for more details and guidance: https://numpy.org/devdocs/release/1.20.0-notes.html#deprecations\n",
            "  savedata = np.array(beats[:], dtype=np.float)\n"
          ]
        },
        {
          "output_type": "stream",
          "name": "stdout",
          "text": [
            "    Generating  /content/sample_data/mit-bih/108_MLII.csv\n",
            "    ECG channel type: V1\n",
            "    Generating  /content/sample_data/mit-bih/108_V1.csv\n",
            "Loading file: /content/sample_data/mit-bih/109\n",
            "    Sampling frequency used for this record: 360\n",
            "    Shape of loaded data array: (650000, 2)\n",
            "    Number of loaded annotations: 2535\n",
            "    ECG channel type: MLII\n"
          ]
        },
        {
          "output_type": "stream",
          "name": "stderr",
          "text": [
            "<ipython-input-31-1a0c02c408ea>:138: DeprecationWarning: `np.float` is a deprecated alias for the builtin `float`. To silence this warning, use `float` by itself. Doing this will not modify any behavior and is safe. If you specifically wanted the numpy scalar type, use `np.float64` here.\n",
            "Deprecated in NumPy 1.20; for more details and guidance: https://numpy.org/devdocs/release/1.20.0-notes.html#deprecations\n",
            "  savedata = np.array(beats[:], dtype=np.float)\n"
          ]
        },
        {
          "output_type": "stream",
          "name": "stdout",
          "text": [
            "    Generating  /content/sample_data/mit-bih/109_MLII.csv\n",
            "    ECG channel type: V1\n",
            "    Generating  /content/sample_data/mit-bih/109_V1.csv\n",
            "Loading file: /content/sample_data/mit-bih/111\n",
            "    Sampling frequency used for this record: 360\n",
            "    Shape of loaded data array: (650000, 2)\n",
            "    Number of loaded annotations: 2133\n",
            "    ECG channel type: MLII\n"
          ]
        },
        {
          "output_type": "stream",
          "name": "stderr",
          "text": [
            "<ipython-input-31-1a0c02c408ea>:138: DeprecationWarning: `np.float` is a deprecated alias for the builtin `float`. To silence this warning, use `float` by itself. Doing this will not modify any behavior and is safe. If you specifically wanted the numpy scalar type, use `np.float64` here.\n",
            "Deprecated in NumPy 1.20; for more details and guidance: https://numpy.org/devdocs/release/1.20.0-notes.html#deprecations\n",
            "  savedata = np.array(beats[:], dtype=np.float)\n"
          ]
        },
        {
          "output_type": "stream",
          "name": "stdout",
          "text": [
            "    Generating  /content/sample_data/mit-bih/111_MLII.csv\n",
            "    ECG channel type: V1\n",
            "    Generating  /content/sample_data/mit-bih/111_V1.csv\n",
            "Loading file: /content/sample_data/mit-bih/112\n",
            "    Sampling frequency used for this record: 360\n",
            "    Shape of loaded data array: (650000, 2)\n",
            "    Number of loaded annotations: 2550\n",
            "    ECG channel type: MLII\n"
          ]
        },
        {
          "output_type": "stream",
          "name": "stderr",
          "text": [
            "<ipython-input-31-1a0c02c408ea>:138: DeprecationWarning: `np.float` is a deprecated alias for the builtin `float`. To silence this warning, use `float` by itself. Doing this will not modify any behavior and is safe. If you specifically wanted the numpy scalar type, use `np.float64` here.\n",
            "Deprecated in NumPy 1.20; for more details and guidance: https://numpy.org/devdocs/release/1.20.0-notes.html#deprecations\n",
            "  savedata = np.array(beats[:], dtype=np.float)\n"
          ]
        },
        {
          "output_type": "stream",
          "name": "stdout",
          "text": [
            "    Generating  /content/sample_data/mit-bih/112_MLII.csv\n",
            "    ECG channel type: V1\n",
            "    Generating  /content/sample_data/mit-bih/112_V1.csv\n",
            "Loading file: /content/sample_data/mit-bih/113\n",
            "    Sampling frequency used for this record: 360\n",
            "    Shape of loaded data array: (650000, 2)\n",
            "    Number of loaded annotations: 1796\n",
            "    ECG channel type: MLII\n"
          ]
        },
        {
          "output_type": "stream",
          "name": "stderr",
          "text": [
            "<ipython-input-31-1a0c02c408ea>:138: DeprecationWarning: `np.float` is a deprecated alias for the builtin `float`. To silence this warning, use `float` by itself. Doing this will not modify any behavior and is safe. If you specifically wanted the numpy scalar type, use `np.float64` here.\n",
            "Deprecated in NumPy 1.20; for more details and guidance: https://numpy.org/devdocs/release/1.20.0-notes.html#deprecations\n",
            "  savedata = np.array(beats[:], dtype=np.float)\n"
          ]
        },
        {
          "output_type": "stream",
          "name": "stdout",
          "text": [
            "    Generating  /content/sample_data/mit-bih/113_MLII.csv\n",
            "    ECG channel type: V1\n",
            "    Generating  /content/sample_data/mit-bih/113_V1.csv\n",
            "Loading file: /content/sample_data/mit-bih/114\n",
            "    Sampling frequency used for this record: 360\n",
            "    Shape of loaded data array: (650000, 2)\n",
            "    Number of loaded annotations: 1890\n",
            "    ECG channel type: V5\n"
          ]
        },
        {
          "output_type": "stream",
          "name": "stderr",
          "text": [
            "<ipython-input-31-1a0c02c408ea>:138: DeprecationWarning: `np.float` is a deprecated alias for the builtin `float`. To silence this warning, use `float` by itself. Doing this will not modify any behavior and is safe. If you specifically wanted the numpy scalar type, use `np.float64` here.\n",
            "Deprecated in NumPy 1.20; for more details and guidance: https://numpy.org/devdocs/release/1.20.0-notes.html#deprecations\n",
            "  savedata = np.array(beats[:], dtype=np.float)\n"
          ]
        },
        {
          "output_type": "stream",
          "name": "stdout",
          "text": [
            "    Generating  /content/sample_data/mit-bih/114_V5.csv\n",
            "    ECG channel type: MLII\n",
            "    Generating  /content/sample_data/mit-bih/114_MLII.csv\n",
            "Loading file: /content/sample_data/mit-bih/115\n",
            "    Sampling frequency used for this record: 360\n",
            "    Shape of loaded data array: (650000, 2)\n",
            "    Number of loaded annotations: 1962\n",
            "    ECG channel type: MLII\n"
          ]
        },
        {
          "output_type": "stream",
          "name": "stderr",
          "text": [
            "<ipython-input-31-1a0c02c408ea>:138: DeprecationWarning: `np.float` is a deprecated alias for the builtin `float`. To silence this warning, use `float` by itself. Doing this will not modify any behavior and is safe. If you specifically wanted the numpy scalar type, use `np.float64` here.\n",
            "Deprecated in NumPy 1.20; for more details and guidance: https://numpy.org/devdocs/release/1.20.0-notes.html#deprecations\n",
            "  savedata = np.array(beats[:], dtype=np.float)\n"
          ]
        },
        {
          "output_type": "stream",
          "name": "stdout",
          "text": [
            "    Generating  /content/sample_data/mit-bih/115_MLII.csv\n",
            "    ECG channel type: V1\n",
            "    Generating  /content/sample_data/mit-bih/115_V1.csv\n",
            "Loading file: /content/sample_data/mit-bih/116\n",
            "    Sampling frequency used for this record: 360\n",
            "    Shape of loaded data array: (650000, 2)\n",
            "    Number of loaded annotations: 2421\n",
            "    ECG channel type: MLII\n"
          ]
        },
        {
          "output_type": "stream",
          "name": "stderr",
          "text": [
            "<ipython-input-31-1a0c02c408ea>:138: DeprecationWarning: `np.float` is a deprecated alias for the builtin `float`. To silence this warning, use `float` by itself. Doing this will not modify any behavior and is safe. If you specifically wanted the numpy scalar type, use `np.float64` here.\n",
            "Deprecated in NumPy 1.20; for more details and guidance: https://numpy.org/devdocs/release/1.20.0-notes.html#deprecations\n",
            "  savedata = np.array(beats[:], dtype=np.float)\n"
          ]
        },
        {
          "output_type": "stream",
          "name": "stdout",
          "text": [
            "    Generating  /content/sample_data/mit-bih/116_MLII.csv\n",
            "    ECG channel type: V1\n",
            "    Generating  /content/sample_data/mit-bih/116_V1.csv\n",
            "Loading file: /content/sample_data/mit-bih/117\n",
            "    Sampling frequency used for this record: 360\n",
            "    Shape of loaded data array: (650000, 2)\n",
            "    Number of loaded annotations: 1539\n",
            "    ECG channel type: MLII\n"
          ]
        },
        {
          "output_type": "stream",
          "name": "stderr",
          "text": [
            "<ipython-input-31-1a0c02c408ea>:138: DeprecationWarning: `np.float` is a deprecated alias for the builtin `float`. To silence this warning, use `float` by itself. Doing this will not modify any behavior and is safe. If you specifically wanted the numpy scalar type, use `np.float64` here.\n",
            "Deprecated in NumPy 1.20; for more details and guidance: https://numpy.org/devdocs/release/1.20.0-notes.html#deprecations\n",
            "  savedata = np.array(beats[:], dtype=np.float)\n"
          ]
        },
        {
          "output_type": "stream",
          "name": "stdout",
          "text": [
            "    Generating  /content/sample_data/mit-bih/117_MLII.csv\n",
            "    ECG channel type: V2\n",
            "    Generating  /content/sample_data/mit-bih/117_V2.csv\n",
            "Loading file: /content/sample_data/mit-bih/118\n",
            "    Sampling frequency used for this record: 360\n",
            "    Shape of loaded data array: (650000, 2)\n",
            "    Number of loaded annotations: 2301\n",
            "    ECG channel type: MLII\n"
          ]
        },
        {
          "output_type": "stream",
          "name": "stderr",
          "text": [
            "<ipython-input-31-1a0c02c408ea>:138: DeprecationWarning: `np.float` is a deprecated alias for the builtin `float`. To silence this warning, use `float` by itself. Doing this will not modify any behavior and is safe. If you specifically wanted the numpy scalar type, use `np.float64` here.\n",
            "Deprecated in NumPy 1.20; for more details and guidance: https://numpy.org/devdocs/release/1.20.0-notes.html#deprecations\n",
            "  savedata = np.array(beats[:], dtype=np.float)\n"
          ]
        },
        {
          "output_type": "stream",
          "name": "stdout",
          "text": [
            "    Generating  /content/sample_data/mit-bih/118_MLII.csv\n",
            "    ECG channel type: V1\n",
            "    Generating  /content/sample_data/mit-bih/118_V1.csv\n",
            "Loading file: /content/sample_data/mit-bih/119\n",
            "    Sampling frequency used for this record: 360\n",
            "    Shape of loaded data array: (650000, 2)\n",
            "    Number of loaded annotations: 2094\n",
            "    ECG channel type: MLII\n"
          ]
        },
        {
          "output_type": "stream",
          "name": "stderr",
          "text": [
            "<ipython-input-31-1a0c02c408ea>:138: DeprecationWarning: `np.float` is a deprecated alias for the builtin `float`. To silence this warning, use `float` by itself. Doing this will not modify any behavior and is safe. If you specifically wanted the numpy scalar type, use `np.float64` here.\n",
            "Deprecated in NumPy 1.20; for more details and guidance: https://numpy.org/devdocs/release/1.20.0-notes.html#deprecations\n",
            "  savedata = np.array(beats[:], dtype=np.float)\n"
          ]
        },
        {
          "output_type": "stream",
          "name": "stdout",
          "text": [
            "    Generating  /content/sample_data/mit-bih/119_MLII.csv\n",
            "    ECG channel type: V1\n",
            "    Generating  /content/sample_data/mit-bih/119_V1.csv\n",
            "Loading file: /content/sample_data/mit-bih/121\n",
            "    Sampling frequency used for this record: 360\n",
            "    Shape of loaded data array: (650000, 2)\n",
            "    Number of loaded annotations: 1876\n",
            "    ECG channel type: MLII\n"
          ]
        },
        {
          "output_type": "stream",
          "name": "stderr",
          "text": [
            "<ipython-input-31-1a0c02c408ea>:138: DeprecationWarning: `np.float` is a deprecated alias for the builtin `float`. To silence this warning, use `float` by itself. Doing this will not modify any behavior and is safe. If you specifically wanted the numpy scalar type, use `np.float64` here.\n",
            "Deprecated in NumPy 1.20; for more details and guidance: https://numpy.org/devdocs/release/1.20.0-notes.html#deprecations\n",
            "  savedata = np.array(beats[:], dtype=np.float)\n"
          ]
        },
        {
          "output_type": "stream",
          "name": "stdout",
          "text": [
            "    Generating  /content/sample_data/mit-bih/121_MLII.csv\n",
            "    ECG channel type: V1\n",
            "    Generating  /content/sample_data/mit-bih/121_V1.csv\n",
            "Loading file: /content/sample_data/mit-bih/122\n",
            "    Sampling frequency used for this record: 360\n",
            "    Shape of loaded data array: (650000, 2)\n",
            "    Number of loaded annotations: 2479\n",
            "    ECG channel type: MLII\n"
          ]
        },
        {
          "output_type": "stream",
          "name": "stderr",
          "text": [
            "<ipython-input-31-1a0c02c408ea>:138: DeprecationWarning: `np.float` is a deprecated alias for the builtin `float`. To silence this warning, use `float` by itself. Doing this will not modify any behavior and is safe. If you specifically wanted the numpy scalar type, use `np.float64` here.\n",
            "Deprecated in NumPy 1.20; for more details and guidance: https://numpy.org/devdocs/release/1.20.0-notes.html#deprecations\n",
            "  savedata = np.array(beats[:], dtype=np.float)\n"
          ]
        },
        {
          "output_type": "stream",
          "name": "stdout",
          "text": [
            "    Generating  /content/sample_data/mit-bih/122_MLII.csv\n",
            "    ECG channel type: V1\n",
            "    Generating  /content/sample_data/mit-bih/122_V1.csv\n",
            "Loading file: /content/sample_data/mit-bih/123\n",
            "    Sampling frequency used for this record: 360\n",
            "    Shape of loaded data array: (650000, 2)\n",
            "    Number of loaded annotations: 1519\n",
            "    ECG channel type: MLII\n"
          ]
        },
        {
          "output_type": "stream",
          "name": "stderr",
          "text": [
            "<ipython-input-31-1a0c02c408ea>:138: DeprecationWarning: `np.float` is a deprecated alias for the builtin `float`. To silence this warning, use `float` by itself. Doing this will not modify any behavior and is safe. If you specifically wanted the numpy scalar type, use `np.float64` here.\n",
            "Deprecated in NumPy 1.20; for more details and guidance: https://numpy.org/devdocs/release/1.20.0-notes.html#deprecations\n",
            "  savedata = np.array(beats[:], dtype=np.float)\n"
          ]
        },
        {
          "output_type": "stream",
          "name": "stdout",
          "text": [
            "    Generating  /content/sample_data/mit-bih/123_MLII.csv\n",
            "    ECG channel type: V5\n",
            "    Generating  /content/sample_data/mit-bih/123_V5.csv\n",
            "Loading file: /content/sample_data/mit-bih/124\n",
            "    Sampling frequency used for this record: 360\n",
            "    Shape of loaded data array: (650000, 2)\n",
            "    Number of loaded annotations: 1634\n",
            "    ECG channel type: MLII\n"
          ]
        },
        {
          "output_type": "stream",
          "name": "stderr",
          "text": [
            "<ipython-input-31-1a0c02c408ea>:138: DeprecationWarning: `np.float` is a deprecated alias for the builtin `float`. To silence this warning, use `float` by itself. Doing this will not modify any behavior and is safe. If you specifically wanted the numpy scalar type, use `np.float64` here.\n",
            "Deprecated in NumPy 1.20; for more details and guidance: https://numpy.org/devdocs/release/1.20.0-notes.html#deprecations\n",
            "  savedata = np.array(beats[:], dtype=np.float)\n"
          ]
        },
        {
          "output_type": "stream",
          "name": "stdout",
          "text": [
            "    Generating  /content/sample_data/mit-bih/124_MLII.csv\n",
            "    ECG channel type: V4\n",
            "    Generating  /content/sample_data/mit-bih/124_V4.csv\n",
            "Loading file: /content/sample_data/mit-bih/200\n",
            "    Sampling frequency used for this record: 360\n",
            "    Shape of loaded data array: (650000, 2)\n",
            "    Number of loaded annotations: 2792\n",
            "    ECG channel type: MLII\n"
          ]
        },
        {
          "output_type": "stream",
          "name": "stderr",
          "text": [
            "<ipython-input-31-1a0c02c408ea>:138: DeprecationWarning: `np.float` is a deprecated alias for the builtin `float`. To silence this warning, use `float` by itself. Doing this will not modify any behavior and is safe. If you specifically wanted the numpy scalar type, use `np.float64` here.\n",
            "Deprecated in NumPy 1.20; for more details and guidance: https://numpy.org/devdocs/release/1.20.0-notes.html#deprecations\n",
            "  savedata = np.array(beats[:], dtype=np.float)\n"
          ]
        },
        {
          "output_type": "stream",
          "name": "stdout",
          "text": [
            "    Generating  /content/sample_data/mit-bih/200_MLII.csv\n",
            "    ECG channel type: V1\n",
            "    Generating  /content/sample_data/mit-bih/200_V1.csv\n",
            "Loading file: /content/sample_data/mit-bih/201\n",
            "    Sampling frequency used for this record: 360\n",
            "    Shape of loaded data array: (650000, 2)\n",
            "    Number of loaded annotations: 2039\n",
            "    ECG channel type: MLII\n"
          ]
        },
        {
          "output_type": "stream",
          "name": "stderr",
          "text": [
            "<ipython-input-31-1a0c02c408ea>:138: DeprecationWarning: `np.float` is a deprecated alias for the builtin `float`. To silence this warning, use `float` by itself. Doing this will not modify any behavior and is safe. If you specifically wanted the numpy scalar type, use `np.float64` here.\n",
            "Deprecated in NumPy 1.20; for more details and guidance: https://numpy.org/devdocs/release/1.20.0-notes.html#deprecations\n",
            "  savedata = np.array(beats[:], dtype=np.float)\n"
          ]
        },
        {
          "output_type": "stream",
          "name": "stdout",
          "text": [
            "    Generating  /content/sample_data/mit-bih/201_MLII.csv\n",
            "    ECG channel type: V1\n",
            "    Generating  /content/sample_data/mit-bih/201_V1.csv\n",
            "Loading file: /content/sample_data/mit-bih/202\n",
            "    Sampling frequency used for this record: 360\n",
            "    Shape of loaded data array: (650000, 2)\n",
            "    Number of loaded annotations: 2146\n",
            "    ECG channel type: MLII\n"
          ]
        },
        {
          "output_type": "stream",
          "name": "stderr",
          "text": [
            "<ipython-input-31-1a0c02c408ea>:138: DeprecationWarning: `np.float` is a deprecated alias for the builtin `float`. To silence this warning, use `float` by itself. Doing this will not modify any behavior and is safe. If you specifically wanted the numpy scalar type, use `np.float64` here.\n",
            "Deprecated in NumPy 1.20; for more details and guidance: https://numpy.org/devdocs/release/1.20.0-notes.html#deprecations\n",
            "  savedata = np.array(beats[:], dtype=np.float)\n"
          ]
        },
        {
          "output_type": "stream",
          "name": "stdout",
          "text": [
            "    Generating  /content/sample_data/mit-bih/202_MLII.csv\n",
            "    ECG channel type: V1\n",
            "    Generating  /content/sample_data/mit-bih/202_V1.csv\n",
            "Loading file: /content/sample_data/mit-bih/203\n",
            "    Sampling frequency used for this record: 360\n",
            "    Shape of loaded data array: (650000, 2)\n",
            "    Number of loaded annotations: 3108\n",
            "    ECG channel type: MLII\n"
          ]
        },
        {
          "output_type": "stream",
          "name": "stderr",
          "text": [
            "<ipython-input-31-1a0c02c408ea>:138: DeprecationWarning: `np.float` is a deprecated alias for the builtin `float`. To silence this warning, use `float` by itself. Doing this will not modify any behavior and is safe. If you specifically wanted the numpy scalar type, use `np.float64` here.\n",
            "Deprecated in NumPy 1.20; for more details and guidance: https://numpy.org/devdocs/release/1.20.0-notes.html#deprecations\n",
            "  savedata = np.array(beats[:], dtype=np.float)\n"
          ]
        },
        {
          "output_type": "stream",
          "name": "stdout",
          "text": [
            "    Generating  /content/sample_data/mit-bih/203_MLII.csv\n",
            "    ECG channel type: V1\n",
            "    Generating  /content/sample_data/mit-bih/203_V1.csv\n",
            "Loading file: /content/sample_data/mit-bih/205\n",
            "    Sampling frequency used for this record: 360\n",
            "    Shape of loaded data array: (650000, 2)\n",
            "    Number of loaded annotations: 2672\n",
            "    ECG channel type: MLII\n"
          ]
        },
        {
          "output_type": "stream",
          "name": "stderr",
          "text": [
            "<ipython-input-31-1a0c02c408ea>:138: DeprecationWarning: `np.float` is a deprecated alias for the builtin `float`. To silence this warning, use `float` by itself. Doing this will not modify any behavior and is safe. If you specifically wanted the numpy scalar type, use `np.float64` here.\n",
            "Deprecated in NumPy 1.20; for more details and guidance: https://numpy.org/devdocs/release/1.20.0-notes.html#deprecations\n",
            "  savedata = np.array(beats[:], dtype=np.float)\n"
          ]
        },
        {
          "output_type": "stream",
          "name": "stdout",
          "text": [
            "    Generating  /content/sample_data/mit-bih/205_MLII.csv\n",
            "    ECG channel type: V1\n",
            "    Generating  /content/sample_data/mit-bih/205_V1.csv\n",
            "Loading file: /content/sample_data/mit-bih/207\n",
            "    Sampling frequency used for this record: 360\n",
            "    Shape of loaded data array: (650000, 2)\n",
            "    Number of loaded annotations: 2385\n",
            "    ECG channel type: MLII\n"
          ]
        },
        {
          "output_type": "stream",
          "name": "stderr",
          "text": [
            "<ipython-input-31-1a0c02c408ea>:138: DeprecationWarning: `np.float` is a deprecated alias for the builtin `float`. To silence this warning, use `float` by itself. Doing this will not modify any behavior and is safe. If you specifically wanted the numpy scalar type, use `np.float64` here.\n",
            "Deprecated in NumPy 1.20; for more details and guidance: https://numpy.org/devdocs/release/1.20.0-notes.html#deprecations\n",
            "  savedata = np.array(beats[:], dtype=np.float)\n"
          ]
        },
        {
          "output_type": "stream",
          "name": "stdout",
          "text": [
            "    Generating  /content/sample_data/mit-bih/207_MLII.csv\n",
            "    ECG channel type: V1\n",
            "    Generating  /content/sample_data/mit-bih/207_V1.csv\n",
            "Loading file: /content/sample_data/mit-bih/208\n",
            "    Sampling frequency used for this record: 360\n",
            "    Shape of loaded data array: (650000, 2)\n",
            "    Number of loaded annotations: 3040\n",
            "    ECG channel type: MLII\n"
          ]
        },
        {
          "output_type": "stream",
          "name": "stderr",
          "text": [
            "<ipython-input-31-1a0c02c408ea>:138: DeprecationWarning: `np.float` is a deprecated alias for the builtin `float`. To silence this warning, use `float` by itself. Doing this will not modify any behavior and is safe. If you specifically wanted the numpy scalar type, use `np.float64` here.\n",
            "Deprecated in NumPy 1.20; for more details and guidance: https://numpy.org/devdocs/release/1.20.0-notes.html#deprecations\n",
            "  savedata = np.array(beats[:], dtype=np.float)\n"
          ]
        },
        {
          "output_type": "stream",
          "name": "stdout",
          "text": [
            "    Generating  /content/sample_data/mit-bih/208_MLII.csv\n",
            "    ECG channel type: V1\n",
            "    Generating  /content/sample_data/mit-bih/208_V1.csv\n",
            "Loading file: /content/sample_data/mit-bih/209\n",
            "    Sampling frequency used for this record: 360\n",
            "    Shape of loaded data array: (650000, 2)\n",
            "    Number of loaded annotations: 3052\n",
            "    ECG channel type: MLII\n"
          ]
        },
        {
          "output_type": "stream",
          "name": "stderr",
          "text": [
            "<ipython-input-31-1a0c02c408ea>:138: DeprecationWarning: `np.float` is a deprecated alias for the builtin `float`. To silence this warning, use `float` by itself. Doing this will not modify any behavior and is safe. If you specifically wanted the numpy scalar type, use `np.float64` here.\n",
            "Deprecated in NumPy 1.20; for more details and guidance: https://numpy.org/devdocs/release/1.20.0-notes.html#deprecations\n",
            "  savedata = np.array(beats[:], dtype=np.float)\n"
          ]
        },
        {
          "output_type": "stream",
          "name": "stdout",
          "text": [
            "    Generating  /content/sample_data/mit-bih/209_MLII.csv\n",
            "    ECG channel type: V1\n",
            "    Generating  /content/sample_data/mit-bih/209_V1.csv\n",
            "Loading file: /content/sample_data/mit-bih/210\n",
            "    Sampling frequency used for this record: 360\n",
            "    Shape of loaded data array: (650000, 2)\n",
            "    Number of loaded annotations: 2685\n",
            "    ECG channel type: MLII\n"
          ]
        },
        {
          "output_type": "stream",
          "name": "stderr",
          "text": [
            "<ipython-input-31-1a0c02c408ea>:138: DeprecationWarning: `np.float` is a deprecated alias for the builtin `float`. To silence this warning, use `float` by itself. Doing this will not modify any behavior and is safe. If you specifically wanted the numpy scalar type, use `np.float64` here.\n",
            "Deprecated in NumPy 1.20; for more details and guidance: https://numpy.org/devdocs/release/1.20.0-notes.html#deprecations\n",
            "  savedata = np.array(beats[:], dtype=np.float)\n"
          ]
        },
        {
          "output_type": "stream",
          "name": "stdout",
          "text": [
            "    Generating  /content/sample_data/mit-bih/210_MLII.csv\n",
            "    ECG channel type: V1\n",
            "    Generating  /content/sample_data/mit-bih/210_V1.csv\n",
            "Loading file: /content/sample_data/mit-bih/212\n",
            "    Sampling frequency used for this record: 360\n",
            "    Shape of loaded data array: (650000, 2)\n",
            "    Number of loaded annotations: 2763\n",
            "    ECG channel type: MLII\n"
          ]
        },
        {
          "output_type": "stream",
          "name": "stderr",
          "text": [
            "<ipython-input-31-1a0c02c408ea>:138: DeprecationWarning: `np.float` is a deprecated alias for the builtin `float`. To silence this warning, use `float` by itself. Doing this will not modify any behavior and is safe. If you specifically wanted the numpy scalar type, use `np.float64` here.\n",
            "Deprecated in NumPy 1.20; for more details and guidance: https://numpy.org/devdocs/release/1.20.0-notes.html#deprecations\n",
            "  savedata = np.array(beats[:], dtype=np.float)\n"
          ]
        },
        {
          "output_type": "stream",
          "name": "stdout",
          "text": [
            "    Generating  /content/sample_data/mit-bih/212_MLII.csv\n",
            "    ECG channel type: V1\n",
            "    Generating  /content/sample_data/mit-bih/212_V1.csv\n",
            "Loading file: /content/sample_data/mit-bih/213\n",
            "    Sampling frequency used for this record: 360\n",
            "    Shape of loaded data array: (650000, 2)\n",
            "    Number of loaded annotations: 3294\n",
            "    ECG channel type: MLII\n"
          ]
        },
        {
          "output_type": "stream",
          "name": "stderr",
          "text": [
            "<ipython-input-31-1a0c02c408ea>:138: DeprecationWarning: `np.float` is a deprecated alias for the builtin `float`. To silence this warning, use `float` by itself. Doing this will not modify any behavior and is safe. If you specifically wanted the numpy scalar type, use `np.float64` here.\n",
            "Deprecated in NumPy 1.20; for more details and guidance: https://numpy.org/devdocs/release/1.20.0-notes.html#deprecations\n",
            "  savedata = np.array(beats[:], dtype=np.float)\n"
          ]
        },
        {
          "output_type": "stream",
          "name": "stdout",
          "text": [
            "    Generating  /content/sample_data/mit-bih/213_MLII.csv\n",
            "    ECG channel type: V1\n",
            "    Generating  /content/sample_data/mit-bih/213_V1.csv\n",
            "Loading file: /content/sample_data/mit-bih/214\n",
            "    Sampling frequency used for this record: 360\n",
            "    Shape of loaded data array: (650000, 2)\n",
            "    Number of loaded annotations: 2297\n",
            "    ECG channel type: MLII\n"
          ]
        },
        {
          "output_type": "stream",
          "name": "stderr",
          "text": [
            "<ipython-input-31-1a0c02c408ea>:138: DeprecationWarning: `np.float` is a deprecated alias for the builtin `float`. To silence this warning, use `float` by itself. Doing this will not modify any behavior and is safe. If you specifically wanted the numpy scalar type, use `np.float64` here.\n",
            "Deprecated in NumPy 1.20; for more details and guidance: https://numpy.org/devdocs/release/1.20.0-notes.html#deprecations\n",
            "  savedata = np.array(beats[:], dtype=np.float)\n"
          ]
        },
        {
          "output_type": "stream",
          "name": "stdout",
          "text": [
            "    Generating  /content/sample_data/mit-bih/214_MLII.csv\n",
            "    ECG channel type: V1\n",
            "    Generating  /content/sample_data/mit-bih/214_V1.csv\n",
            "Loading file: /content/sample_data/mit-bih/215\n",
            "    Sampling frequency used for this record: 360\n",
            "    Shape of loaded data array: (650000, 2)\n",
            "    Number of loaded annotations: 3400\n",
            "    ECG channel type: MLII\n"
          ]
        },
        {
          "output_type": "stream",
          "name": "stderr",
          "text": [
            "<ipython-input-31-1a0c02c408ea>:138: DeprecationWarning: `np.float` is a deprecated alias for the builtin `float`. To silence this warning, use `float` by itself. Doing this will not modify any behavior and is safe. If you specifically wanted the numpy scalar type, use `np.float64` here.\n",
            "Deprecated in NumPy 1.20; for more details and guidance: https://numpy.org/devdocs/release/1.20.0-notes.html#deprecations\n",
            "  savedata = np.array(beats[:], dtype=np.float)\n"
          ]
        },
        {
          "output_type": "stream",
          "name": "stdout",
          "text": [
            "    Generating  /content/sample_data/mit-bih/215_MLII.csv\n",
            "    ECG channel type: V1\n",
            "    Generating  /content/sample_data/mit-bih/215_V1.csv\n",
            "Loading file: /content/sample_data/mit-bih/217\n",
            "    Sampling frequency used for this record: 360\n",
            "    Shape of loaded data array: (650000, 2)\n",
            "    Number of loaded annotations: 2280\n",
            "    ECG channel type: MLII\n"
          ]
        },
        {
          "output_type": "stream",
          "name": "stderr",
          "text": [
            "<ipython-input-31-1a0c02c408ea>:138: DeprecationWarning: `np.float` is a deprecated alias for the builtin `float`. To silence this warning, use `float` by itself. Doing this will not modify any behavior and is safe. If you specifically wanted the numpy scalar type, use `np.float64` here.\n",
            "Deprecated in NumPy 1.20; for more details and guidance: https://numpy.org/devdocs/release/1.20.0-notes.html#deprecations\n",
            "  savedata = np.array(beats[:], dtype=np.float)\n"
          ]
        },
        {
          "output_type": "stream",
          "name": "stdout",
          "text": [
            "    Generating  /content/sample_data/mit-bih/217_MLII.csv\n",
            "    ECG channel type: V1\n",
            "    Generating  /content/sample_data/mit-bih/217_V1.csv\n",
            "Loading file: /content/sample_data/mit-bih/219\n",
            "    Sampling frequency used for this record: 360\n",
            "    Shape of loaded data array: (650000, 2)\n",
            "    Number of loaded annotations: 2312\n",
            "    ECG channel type: MLII\n"
          ]
        },
        {
          "output_type": "stream",
          "name": "stderr",
          "text": [
            "<ipython-input-31-1a0c02c408ea>:138: DeprecationWarning: `np.float` is a deprecated alias for the builtin `float`. To silence this warning, use `float` by itself. Doing this will not modify any behavior and is safe. If you specifically wanted the numpy scalar type, use `np.float64` here.\n",
            "Deprecated in NumPy 1.20; for more details and guidance: https://numpy.org/devdocs/release/1.20.0-notes.html#deprecations\n",
            "  savedata = np.array(beats[:], dtype=np.float)\n"
          ]
        },
        {
          "output_type": "stream",
          "name": "stdout",
          "text": [
            "    Generating  /content/sample_data/mit-bih/219_MLII.csv\n",
            "    ECG channel type: V1\n",
            "    Generating  /content/sample_data/mit-bih/219_V1.csv\n",
            "Loading file: /content/sample_data/mit-bih/220\n",
            "    Sampling frequency used for this record: 360\n",
            "    Shape of loaded data array: (650000, 2)\n",
            "    Number of loaded annotations: 2069\n",
            "    ECG channel type: MLII\n"
          ]
        },
        {
          "output_type": "stream",
          "name": "stderr",
          "text": [
            "<ipython-input-31-1a0c02c408ea>:138: DeprecationWarning: `np.float` is a deprecated alias for the builtin `float`. To silence this warning, use `float` by itself. Doing this will not modify any behavior and is safe. If you specifically wanted the numpy scalar type, use `np.float64` here.\n",
            "Deprecated in NumPy 1.20; for more details and guidance: https://numpy.org/devdocs/release/1.20.0-notes.html#deprecations\n",
            "  savedata = np.array(beats[:], dtype=np.float)\n"
          ]
        },
        {
          "output_type": "stream",
          "name": "stdout",
          "text": [
            "    Generating  /content/sample_data/mit-bih/220_MLII.csv\n",
            "    ECG channel type: V1\n",
            "    Generating  /content/sample_data/mit-bih/220_V1.csv\n",
            "Loading file: /content/sample_data/mit-bih/221\n",
            "    Sampling frequency used for this record: 360\n",
            "    Shape of loaded data array: (650000, 2)\n",
            "    Number of loaded annotations: 2462\n",
            "    ECG channel type: MLII\n"
          ]
        },
        {
          "output_type": "stream",
          "name": "stderr",
          "text": [
            "<ipython-input-31-1a0c02c408ea>:138: DeprecationWarning: `np.float` is a deprecated alias for the builtin `float`. To silence this warning, use `float` by itself. Doing this will not modify any behavior and is safe. If you specifically wanted the numpy scalar type, use `np.float64` here.\n",
            "Deprecated in NumPy 1.20; for more details and guidance: https://numpy.org/devdocs/release/1.20.0-notes.html#deprecations\n",
            "  savedata = np.array(beats[:], dtype=np.float)\n"
          ]
        },
        {
          "output_type": "stream",
          "name": "stdout",
          "text": [
            "    Generating  /content/sample_data/mit-bih/221_MLII.csv\n",
            "    ECG channel type: V1\n",
            "    Generating  /content/sample_data/mit-bih/221_V1.csv\n",
            "Loading file: /content/sample_data/mit-bih/222\n",
            "    Sampling frequency used for this record: 360\n",
            "    Shape of loaded data array: (650000, 2)\n",
            "    Number of loaded annotations: 2634\n",
            "    ECG channel type: MLII\n"
          ]
        },
        {
          "output_type": "stream",
          "name": "stderr",
          "text": [
            "<ipython-input-31-1a0c02c408ea>:138: DeprecationWarning: `np.float` is a deprecated alias for the builtin `float`. To silence this warning, use `float` by itself. Doing this will not modify any behavior and is safe. If you specifically wanted the numpy scalar type, use `np.float64` here.\n",
            "Deprecated in NumPy 1.20; for more details and guidance: https://numpy.org/devdocs/release/1.20.0-notes.html#deprecations\n",
            "  savedata = np.array(beats[:], dtype=np.float)\n"
          ]
        },
        {
          "output_type": "stream",
          "name": "stdout",
          "text": [
            "    Generating  /content/sample_data/mit-bih/222_MLII.csv\n",
            "    ECG channel type: V1\n",
            "    Generating  /content/sample_data/mit-bih/222_V1.csv\n",
            "Loading file: /content/sample_data/mit-bih/223\n",
            "    Sampling frequency used for this record: 360\n",
            "    Shape of loaded data array: (650000, 2)\n",
            "    Number of loaded annotations: 2643\n",
            "    ECG channel type: MLII\n"
          ]
        },
        {
          "output_type": "stream",
          "name": "stderr",
          "text": [
            "<ipython-input-31-1a0c02c408ea>:138: DeprecationWarning: `np.float` is a deprecated alias for the builtin `float`. To silence this warning, use `float` by itself. Doing this will not modify any behavior and is safe. If you specifically wanted the numpy scalar type, use `np.float64` here.\n",
            "Deprecated in NumPy 1.20; for more details and guidance: https://numpy.org/devdocs/release/1.20.0-notes.html#deprecations\n",
            "  savedata = np.array(beats[:], dtype=np.float)\n"
          ]
        },
        {
          "output_type": "stream",
          "name": "stdout",
          "text": [
            "    Generating  /content/sample_data/mit-bih/223_MLII.csv\n",
            "    ECG channel type: V1\n",
            "    Generating  /content/sample_data/mit-bih/223_V1.csv\n",
            "Loading file: /content/sample_data/mit-bih/228\n",
            "    Sampling frequency used for this record: 360\n",
            "    Shape of loaded data array: (650000, 2)\n",
            "    Number of loaded annotations: 2141\n",
            "    ECG channel type: MLII\n"
          ]
        },
        {
          "output_type": "stream",
          "name": "stderr",
          "text": [
            "<ipython-input-31-1a0c02c408ea>:138: DeprecationWarning: `np.float` is a deprecated alias for the builtin `float`. To silence this warning, use `float` by itself. Doing this will not modify any behavior and is safe. If you specifically wanted the numpy scalar type, use `np.float64` here.\n",
            "Deprecated in NumPy 1.20; for more details and guidance: https://numpy.org/devdocs/release/1.20.0-notes.html#deprecations\n",
            "  savedata = np.array(beats[:], dtype=np.float)\n"
          ]
        },
        {
          "output_type": "stream",
          "name": "stdout",
          "text": [
            "    Generating  /content/sample_data/mit-bih/228_MLII.csv\n",
            "    ECG channel type: V1\n",
            "    Generating  /content/sample_data/mit-bih/228_V1.csv\n",
            "Loading file: /content/sample_data/mit-bih/230\n",
            "    Sampling frequency used for this record: 360\n",
            "    Shape of loaded data array: (650000, 2)\n",
            "    Number of loaded annotations: 2466\n",
            "    ECG channel type: MLII\n"
          ]
        },
        {
          "output_type": "stream",
          "name": "stderr",
          "text": [
            "<ipython-input-31-1a0c02c408ea>:138: DeprecationWarning: `np.float` is a deprecated alias for the builtin `float`. To silence this warning, use `float` by itself. Doing this will not modify any behavior and is safe. If you specifically wanted the numpy scalar type, use `np.float64` here.\n",
            "Deprecated in NumPy 1.20; for more details and guidance: https://numpy.org/devdocs/release/1.20.0-notes.html#deprecations\n",
            "  savedata = np.array(beats[:], dtype=np.float)\n"
          ]
        },
        {
          "output_type": "stream",
          "name": "stdout",
          "text": [
            "    Generating  /content/sample_data/mit-bih/230_MLII.csv\n",
            "    ECG channel type: V1\n",
            "    Generating  /content/sample_data/mit-bih/230_V1.csv\n",
            "Loading file: /content/sample_data/mit-bih/231\n",
            "    Sampling frequency used for this record: 360\n",
            "    Shape of loaded data array: (650000, 2)\n",
            "    Number of loaded annotations: 2011\n",
            "    ECG channel type: MLII\n"
          ]
        },
        {
          "output_type": "stream",
          "name": "stderr",
          "text": [
            "<ipython-input-31-1a0c02c408ea>:138: DeprecationWarning: `np.float` is a deprecated alias for the builtin `float`. To silence this warning, use `float` by itself. Doing this will not modify any behavior and is safe. If you specifically wanted the numpy scalar type, use `np.float64` here.\n",
            "Deprecated in NumPy 1.20; for more details and guidance: https://numpy.org/devdocs/release/1.20.0-notes.html#deprecations\n",
            "  savedata = np.array(beats[:], dtype=np.float)\n"
          ]
        },
        {
          "output_type": "stream",
          "name": "stdout",
          "text": [
            "    Generating  /content/sample_data/mit-bih/231_MLII.csv\n",
            "    ECG channel type: V1\n",
            "    Generating  /content/sample_data/mit-bih/231_V1.csv\n",
            "Loading file: /content/sample_data/mit-bih/232\n",
            "    Sampling frequency used for this record: 360\n",
            "    Shape of loaded data array: (650000, 2)\n",
            "    Number of loaded annotations: 1816\n",
            "    ECG channel type: MLII\n"
          ]
        },
        {
          "output_type": "stream",
          "name": "stderr",
          "text": [
            "<ipython-input-31-1a0c02c408ea>:138: DeprecationWarning: `np.float` is a deprecated alias for the builtin `float`. To silence this warning, use `float` by itself. Doing this will not modify any behavior and is safe. If you specifically wanted the numpy scalar type, use `np.float64` here.\n",
            "Deprecated in NumPy 1.20; for more details and guidance: https://numpy.org/devdocs/release/1.20.0-notes.html#deprecations\n",
            "  savedata = np.array(beats[:], dtype=np.float)\n"
          ]
        },
        {
          "output_type": "stream",
          "name": "stdout",
          "text": [
            "    Generating  /content/sample_data/mit-bih/232_MLII.csv\n",
            "    ECG channel type: V1\n",
            "    Generating  /content/sample_data/mit-bih/232_V1.csv\n",
            "Loading file: /content/sample_data/mit-bih/233\n",
            "    Sampling frequency used for this record: 360\n",
            "    Shape of loaded data array: (650000, 2)\n",
            "    Number of loaded annotations: 3152\n",
            "    ECG channel type: MLII\n"
          ]
        },
        {
          "output_type": "stream",
          "name": "stderr",
          "text": [
            "<ipython-input-31-1a0c02c408ea>:138: DeprecationWarning: `np.float` is a deprecated alias for the builtin `float`. To silence this warning, use `float` by itself. Doing this will not modify any behavior and is safe. If you specifically wanted the numpy scalar type, use `np.float64` here.\n",
            "Deprecated in NumPy 1.20; for more details and guidance: https://numpy.org/devdocs/release/1.20.0-notes.html#deprecations\n",
            "  savedata = np.array(beats[:], dtype=np.float)\n"
          ]
        },
        {
          "output_type": "stream",
          "name": "stdout",
          "text": [
            "    Generating  /content/sample_data/mit-bih/233_MLII.csv\n",
            "    ECG channel type: V1\n",
            "    Generating  /content/sample_data/mit-bih/233_V1.csv\n",
            "Loading file: /content/sample_data/mit-bih/234\n",
            "    Sampling frequency used for this record: 360\n",
            "    Shape of loaded data array: (650000, 2)\n",
            "    Number of loaded annotations: 2764\n",
            "    ECG channel type: MLII\n"
          ]
        },
        {
          "output_type": "stream",
          "name": "stderr",
          "text": [
            "<ipython-input-31-1a0c02c408ea>:138: DeprecationWarning: `np.float` is a deprecated alias for the builtin `float`. To silence this warning, use `float` by itself. Doing this will not modify any behavior and is safe. If you specifically wanted the numpy scalar type, use `np.float64` here.\n",
            "Deprecated in NumPy 1.20; for more details and guidance: https://numpy.org/devdocs/release/1.20.0-notes.html#deprecations\n",
            "  savedata = np.array(beats[:], dtype=np.float)\n"
          ]
        },
        {
          "output_type": "stream",
          "name": "stdout",
          "text": [
            "    Generating  /content/sample_data/mit-bih/234_MLII.csv\n",
            "    ECG channel type: V1\n",
            "    Generating  /content/sample_data/mit-bih/234_V1.csv\n"
          ]
        }
      ],
      "source": [
        "import wfdb as wf\n",
        "import numpy as np\n",
        "import glob\n",
        "from matplotlib import pyplot as plt\n",
        "from biosppy.signals import ecg\n",
        "from scipy import signal\n",
        "\n",
        "def extract_data():\n",
        "    data_files = glob.glob('/content/sample_data/mit-bih/*.atr')\n",
        "    data_files = [i[:-4] for i in data_files]\n",
        "    data_files.sort()\n",
        "    return data_files\n",
        "\n",
        "records = extract_data()\n",
        "print('Total files: ', len(records))\n",
        "\n",
        "\n",
        "good_beats = ['N','L','R','B','A','a','J','S','V','r',\n",
        "             'F','e','j','n','E','/','f','Q','?']\n",
        "\n",
        "for path in records:\n",
        "    pathpts = path.split('/')\n",
        "    fn = pathpts[-1]\n",
        "    print('Loading file:', path)\n",
        "\n",
        "    # Read in the data\n",
        "    record = wf.rdsamp(path) #signals and fields\n",
        "    annotation = wf.rdann(path, 'atr')\n",
        "\n",
        "    # Print some meta informations\n",
        "    print('    Sampling frequency used for this record:', record[1].get('fs'))\n",
        "    print('    Shape of loaded data array:', record[0].shape)\n",
        "    print('    Number of loaded annotations:', len(annotation.num))\n",
        "    \n",
        "    # Get the ECG values from the file.\n",
        "    data = record[0].transpose() #record[0] indicates signal attribute\n",
        "\n",
        "    # Generate the classifications based on the annotations.\n",
        "    # 0.0 = undetermined\n",
        "    # 1.0 = normal\n",
        "    # 2.0 = LBBBB\n",
        "    # 3.0 = RBBBB\n",
        "    # 4.0 = Premature Ventricular contraction\n",
        "    # 5.0 = Atrial Premature beat\n",
        "    # 6.0 = Fusion ventricular normal beat\n",
        "    # 7.0 = Fusion of paced and normal beat\n",
        "    # 8.0 = paced beat\n",
        "    \n",
        "    clas = np.array(annotation.symbol)\n",
        "    rate = np.zeros_like(clas, dtype='float')\n",
        "    for clasid, clasval in enumerate(clas):\n",
        "        if (clasval == 'N'):\n",
        "            rate[clasid] = 0.0 # Normal\n",
        "        elif (clasval == 'L'):\n",
        "            rate[clasid] = 0.0 # LBBBB\n",
        "        elif (clasval == 'R'):\n",
        "            rate[clasid] = 0.0 # RBBBB\n",
        "        elif (clasval == 'V'):\n",
        "            rate[clasid] = 3.0 # Premature Ventricular contraction\n",
        "        elif (clasval == 'E'):\n",
        "            rate[clasid] = 3.0 # Premature Ventricular contraction\n",
        "        elif (clasval == 'e'):\n",
        "            rate[clasid] = 1.0 # Premature Ventricular contraction\n",
        "        elif (clasval == 'j'):\n",
        "            rate[clasid] = 1.0 # Premature Ventricular contraction\n",
        "        elif (clasval == 'A'):\n",
        "            rate[clasid] = 1.0 # Premature Ventricular contraction\n",
        "        elif (clasval == 'J'):\n",
        "            rate[clasid] = 1.0 # Premature Ventricular contraction\n",
        "        elif (clasval == 'S'):\n",
        "            rate[clasid] = 1.0 # Premature Ventricular contraction\n",
        "        elif (clasval == 'a'):\n",
        "            rate[clasid] = 1.0 # Premature Ventricular contraction\n",
        "        \n",
        "        elif (clasval == 'F'):\n",
        "            rate[clasid] = 2.0 # Fusion ventricular normal beat\n",
        "        elif (clasval == 'f'):\n",
        "            rate[clasid] = 4.0 # Fusion of paced and normal beat\n",
        "        elif (clasval == '/'):\n",
        "            rate[clasid] = 4.0 # paced beat\n",
        "        elif (clasval == 'Q'):\n",
        "            rate[clasid] = 4.0 # paced beat\n",
        "        # print(rate)  \n",
        "        \n",
        "\n",
        "    rates = np.zeros_like(data[0], dtype='float')\n",
        "    rates[annotation.sample] = rate\n",
        "    \n",
        "    indices = np.arange(data[0].size, dtype='int')\n",
        "\n",
        "    # Manipulate both channels\n",
        "    for channelid, channel in enumerate(data):\n",
        "        chname = record[1].get('sig_name')[channelid]\n",
        "        print('    ECG channel type:', chname)\n",
        "        \n",
        "        # Find rpeaks in the ECG data. Most should match with\n",
        "        # the annotations.\n",
        "        out = ecg.ecg(signal=channel, sampling_rate=360, show=False)\n",
        "\n",
        "        # Split into individual heartbeats. For each heartbeat\n",
        "        # record, append classification.\n",
        "        \n",
        "        beats = []\n",
        "        for ind, ind_val in enumerate(out['rpeaks']):\n",
        "\n",
        "            start,end = ind_val-360//2, ind_val+360//2\n",
        "            if start < 0:\n",
        "                start = 0\n",
        "            diff = 360 - len(channel[start:end])\n",
        "            if diff > 0:\n",
        "                padding = np.zeros(diff, dtype='float')\n",
        "                padded_channel = np.append(padding, channel[start:end])\n",
        "                padded_channel=denoise(padded_channel)\n",
        "                beats.append(padded_channel)\n",
        "            else:\n",
        "                value=denoise(channel[start:end])\n",
        "                beats.append(value)\n",
        "\n",
        "            # Get the classification value that is on\n",
        "            # or near the position of the rpeak index.\n",
        "            from_ind = 0 if ind_val < 10 else ind_val - 10\n",
        "            to_ind = ind_val + 10\n",
        "            clasval = rates[from_ind:to_ind].max()\n",
        "            \n",
        "            \n",
        "            # Standardize the data\n",
        "            beats[ind] = ((beats[ind] - np.mean(beats[ind])) / np.std(beats[ind]))\n",
        "            \n",
        "\n",
        "            # Append the classification to the beat data.\n",
        "            beats[ind] = np.append(beats[ind], clasval)\n",
        "            \n",
        "            # Append the record number to the beat data.\n",
        "            beats[ind] = np.append(beats[ind], fn[-3:])\n",
        "\n",
        "        # Save to CSV file.\n",
        "\n",
        "        savedata = np.array(beats[:], dtype=np.float)\n",
        "        outfn = '/content/sample_data/mit-bih/'+fn+'_'+chname+'.csv'\n",
        "        print('    Generating ', outfn)\n",
        "        with open(outfn, \"wb\") as fin:\n",
        "            np.savetxt(fin, savedata, delimiter=\",\", fmt='%f')"
      ]
    },
    {
      "cell_type": "code",
      "execution_count": null,
      "metadata": {
        "colab": {
          "base_uri": "https://localhost:8080/"
        },
        "id": "3ZqIRAL89b5R",
        "outputId": "4cf0205d-40bd-4b85-97fe-e7545baf9275"
      },
      "outputs": [
        {
          "output_type": "stream",
          "name": "stdout",
          "text": [
            "(0, 362)\n",
            "['/content/sample_data/mit-bih/219_V1.csv', '/content/sample_data/mit-bih/114_MLII.csv', '/content/sample_data/mit-bih/108_V1.csv', '/content/sample_data/mit-bih/108_MLII.csv', '/content/sample_data/mit-bih/123_MLII.csv', '/content/sample_data/mit-bih/205_MLII.csv', '/content/sample_data/mit-bih/119_V1.csv', '/content/sample_data/mit-bih/118_MLII.csv', '/content/sample_data/mit-bih/123_V5.csv', '/content/sample_data/mit-bih/101_V1.csv', '/content/sample_data/mit-bih/111_MLII.csv', '/content/sample_data/mit-bih/113_MLII.csv', '/content/sample_data/mit-bih/232_MLII.csv', '/content/sample_data/mit-bih/201_MLII.csv', '/content/sample_data/mit-bih/215_MLII.csv', '/content/sample_data/mit-bih/116_V1.csv', '/content/sample_data/mit-bih/220_V1.csv', '/content/sample_data/mit-bih/101_MLII.csv', '/content/sample_data/mit-bih/117_MLII.csv', '/content/sample_data/mit-bih/213_V1.csv', '/content/sample_data/mit-bih/112_V1.csv', '/content/sample_data/mit-bih/219_MLII.csv', '/content/sample_data/mit-bih/233_V1.csv', '/content/sample_data/mit-bih/124_MLII.csv', '/content/sample_data/mit-bih/200_MLII.csv', '/content/sample_data/mit-bih/202_MLII.csv', '/content/sample_data/mit-bih/121_V1.csv', '/content/sample_data/mit-bih/109_MLII.csv', '/content/sample_data/mit-bih/115_MLII.csv', '/content/sample_data/mit-bih/107_MLII.csv', '/content/sample_data/mit-bih/223_V1.csv', '/content/sample_data/mit-bih/205_V1.csv', '/content/sample_data/mit-bih/200_V1.csv', '/content/sample_data/mit-bih/209_V1.csv', '/content/sample_data/mit-bih/109_V1.csv', '/content/sample_data/mit-bih/122_V1.csv', '/content/sample_data/mit-bih/102_V5.csv', '/content/sample_data/mit-bih/228_MLII.csv', '/content/sample_data/mit-bih/106_V1.csv', '/content/sample_data/mit-bih/104_V5.csv', '/content/sample_data/mit-bih/220_MLII.csv', '/content/sample_data/mit-bih/201_V1.csv', '/content/sample_data/mit-bih/207_V1.csv', '/content/sample_data/mit-bih/107_V1.csv', '/content/sample_data/mit-bih/233_MLII.csv', '/content/sample_data/mit-bih/202_V1.csv', '/content/sample_data/mit-bih/230_MLII.csv', '/content/sample_data/mit-bih/217_MLII.csv', '/content/sample_data/mit-bih/210_V1.csv', '/content/sample_data/mit-bih/112_MLII.csv', '/content/sample_data/mit-bih/118_V1.csv', '/content/sample_data/mit-bih/103_MLII.csv', '/content/sample_data/mit-bih/232_V1.csv', '/content/sample_data/mit-bih/214_MLII.csv', '/content/sample_data/mit-bih/105_V1.csv', '/content/sample_data/mit-bih/207_MLII.csv', '/content/sample_data/mit-bih/122_MLII.csv', '/content/sample_data/mit-bih/100_MLII.csv', '/content/sample_data/mit-bih/230_V1.csv', '/content/sample_data/mit-bih/114_V5.csv', '/content/sample_data/mit-bih/102_V2.csv', '/content/sample_data/mit-bih/212_MLII.csv', '/content/sample_data/mit-bih/212_V1.csv', '/content/sample_data/mit-bih/231_MLII.csv', '/content/sample_data/mit-bih/221_V1.csv', '/content/sample_data/mit-bih/105_MLII.csv', '/content/sample_data/mit-bih/228_V1.csv', '/content/sample_data/mit-bih/234_MLII.csv', '/content/sample_data/mit-bih/210_MLII.csv', '/content/sample_data/mit-bih/119_MLII.csv', '/content/sample_data/mit-bih/104_V2.csv', '/content/sample_data/mit-bih/223_MLII.csv', '/content/sample_data/mit-bih/113_V1.csv', '/content/sample_data/mit-bih/203_V1.csv', '/content/sample_data/mit-bih/116_MLII.csv', '/content/sample_data/mit-bih/121_MLII.csv', '/content/sample_data/mit-bih/214_V1.csv', '/content/sample_data/mit-bih/124_V4.csv', '/content/sample_data/mit-bih/100_V5.csv', '/content/sample_data/mit-bih/217_V1.csv', '/content/sample_data/mit-bih/215_V1.csv', '/content/sample_data/mit-bih/209_MLII.csv', '/content/sample_data/mit-bih/234_V1.csv', '/content/sample_data/mit-bih/222_MLII.csv', '/content/sample_data/mit-bih/106_MLII.csv', '/content/sample_data/mit-bih/103_V2.csv', '/content/sample_data/mit-bih/213_MLII.csv', '/content/sample_data/mit-bih/203_MLII.csv', '/content/sample_data/mit-bih/117_V2.csv', '/content/sample_data/mit-bih/221_MLII.csv', '/content/sample_data/mit-bih/111_V1.csv', '/content/sample_data/mit-bih/222_V1.csv', '/content/sample_data/mit-bih/231_V1.csv', '/content/sample_data/mit-bih/208_MLII.csv', '/content/sample_data/mit-bih/115_V1.csv', '/content/sample_data/mit-bih/208_V1.csv']\n",
            "Loading  /content/sample_data/mit-bih/219_V1.csv\n",
            "Loading  /content/sample_data/mit-bih/114_MLII.csv\n",
            "Loading  /content/sample_data/mit-bih/108_V1.csv\n",
            "Loading  /content/sample_data/mit-bih/108_MLII.csv\n",
            "Loading  /content/sample_data/mit-bih/123_MLII.csv\n",
            "Loading  /content/sample_data/mit-bih/205_MLII.csv\n",
            "Loading  /content/sample_data/mit-bih/119_V1.csv\n",
            "Loading  /content/sample_data/mit-bih/118_MLII.csv\n",
            "Loading  /content/sample_data/mit-bih/123_V5.csv\n",
            "Loading  /content/sample_data/mit-bih/101_V1.csv\n",
            "Loading  /content/sample_data/mit-bih/111_MLII.csv\n",
            "Loading  /content/sample_data/mit-bih/113_MLII.csv\n",
            "Loading  /content/sample_data/mit-bih/232_MLII.csv\n",
            "Loading  /content/sample_data/mit-bih/201_MLII.csv\n",
            "Loading  /content/sample_data/mit-bih/215_MLII.csv\n",
            "Loading  /content/sample_data/mit-bih/116_V1.csv\n",
            "Loading  /content/sample_data/mit-bih/220_V1.csv\n",
            "Loading  /content/sample_data/mit-bih/101_MLII.csv\n",
            "Loading  /content/sample_data/mit-bih/117_MLII.csv\n",
            "Loading  /content/sample_data/mit-bih/213_V1.csv\n",
            "Loading  /content/sample_data/mit-bih/112_V1.csv\n",
            "Loading  /content/sample_data/mit-bih/219_MLII.csv\n",
            "Loading  /content/sample_data/mit-bih/233_V1.csv\n",
            "Loading  /content/sample_data/mit-bih/124_MLII.csv\n",
            "Loading  /content/sample_data/mit-bih/200_MLII.csv\n",
            "Loading  /content/sample_data/mit-bih/202_MLII.csv\n",
            "Loading  /content/sample_data/mit-bih/121_V1.csv\n",
            "Loading  /content/sample_data/mit-bih/109_MLII.csv\n",
            "Loading  /content/sample_data/mit-bih/115_MLII.csv\n",
            "Loading  /content/sample_data/mit-bih/107_MLII.csv\n",
            "Loading  /content/sample_data/mit-bih/223_V1.csv\n",
            "Loading  /content/sample_data/mit-bih/205_V1.csv\n",
            "Loading  /content/sample_data/mit-bih/200_V1.csv\n",
            "Loading  /content/sample_data/mit-bih/209_V1.csv\n",
            "Loading  /content/sample_data/mit-bih/109_V1.csv\n",
            "Loading  /content/sample_data/mit-bih/122_V1.csv\n",
            "Loading  /content/sample_data/mit-bih/102_V5.csv\n",
            "Loading  /content/sample_data/mit-bih/228_MLII.csv\n",
            "Loading  /content/sample_data/mit-bih/106_V1.csv\n",
            "Loading  /content/sample_data/mit-bih/104_V5.csv\n",
            "Loading  /content/sample_data/mit-bih/220_MLII.csv\n",
            "Loading  /content/sample_data/mit-bih/201_V1.csv\n",
            "Loading  /content/sample_data/mit-bih/207_V1.csv\n",
            "Loading  /content/sample_data/mit-bih/107_V1.csv\n",
            "Loading  /content/sample_data/mit-bih/233_MLII.csv\n",
            "Loading  /content/sample_data/mit-bih/202_V1.csv\n",
            "Loading  /content/sample_data/mit-bih/230_MLII.csv\n",
            "Loading  /content/sample_data/mit-bih/217_MLII.csv\n",
            "Loading  /content/sample_data/mit-bih/210_V1.csv\n",
            "Loading  /content/sample_data/mit-bih/112_MLII.csv\n",
            "Loading  /content/sample_data/mit-bih/118_V1.csv\n",
            "Loading  /content/sample_data/mit-bih/103_MLII.csv\n",
            "Loading  /content/sample_data/mit-bih/232_V1.csv\n",
            "Loading  /content/sample_data/mit-bih/214_MLII.csv\n",
            "Loading  /content/sample_data/mit-bih/105_V1.csv\n",
            "Loading  /content/sample_data/mit-bih/207_MLII.csv\n",
            "Loading  /content/sample_data/mit-bih/122_MLII.csv\n",
            "Loading  /content/sample_data/mit-bih/100_MLII.csv\n",
            "Loading  /content/sample_data/mit-bih/230_V1.csv\n",
            "Loading  /content/sample_data/mit-bih/114_V5.csv\n",
            "Loading  /content/sample_data/mit-bih/102_V2.csv\n",
            "Loading  /content/sample_data/mit-bih/212_MLII.csv\n",
            "Loading  /content/sample_data/mit-bih/212_V1.csv\n",
            "Loading  /content/sample_data/mit-bih/231_MLII.csv\n",
            "Loading  /content/sample_data/mit-bih/221_V1.csv\n",
            "Loading  /content/sample_data/mit-bih/105_MLII.csv\n",
            "Loading  /content/sample_data/mit-bih/228_V1.csv\n",
            "Loading  /content/sample_data/mit-bih/234_MLII.csv\n",
            "Loading  /content/sample_data/mit-bih/210_MLII.csv\n",
            "Loading  /content/sample_data/mit-bih/119_MLII.csv\n",
            "Loading  /content/sample_data/mit-bih/104_V2.csv\n",
            "Loading  /content/sample_data/mit-bih/223_MLII.csv\n",
            "Loading  /content/sample_data/mit-bih/113_V1.csv\n",
            "Loading  /content/sample_data/mit-bih/203_V1.csv\n",
            "Loading  /content/sample_data/mit-bih/116_MLII.csv\n",
            "Loading  /content/sample_data/mit-bih/121_MLII.csv\n",
            "Loading  /content/sample_data/mit-bih/214_V1.csv\n",
            "Loading  /content/sample_data/mit-bih/124_V4.csv\n",
            "Loading  /content/sample_data/mit-bih/100_V5.csv\n",
            "Loading  /content/sample_data/mit-bih/217_V1.csv\n",
            "Loading  /content/sample_data/mit-bih/215_V1.csv\n",
            "Loading  /content/sample_data/mit-bih/209_MLII.csv\n",
            "Loading  /content/sample_data/mit-bih/234_V1.csv\n",
            "Loading  /content/sample_data/mit-bih/222_MLII.csv\n",
            "Loading  /content/sample_data/mit-bih/106_MLII.csv\n",
            "Loading  /content/sample_data/mit-bih/103_V2.csv\n",
            "Loading  /content/sample_data/mit-bih/213_MLII.csv\n",
            "Loading  /content/sample_data/mit-bih/203_MLII.csv\n",
            "Loading  /content/sample_data/mit-bih/117_V2.csv\n",
            "Loading  /content/sample_data/mit-bih/221_MLII.csv\n",
            "Loading  /content/sample_data/mit-bih/111_V1.csv\n",
            "Loading  /content/sample_data/mit-bih/222_V1.csv\n",
            "Loading  /content/sample_data/mit-bih/231_V1.csv\n",
            "Loading  /content/sample_data/mit-bih/208_MLII.csv\n",
            "Loading  /content/sample_data/mit-bih/115_V1.csv\n",
            "Loading  /content/sample_data/mit-bih/208_V1.csv\n",
            "(215361, 362)\n"
          ]
        }
      ],
      "source": [
        "#storing all data \n",
        "alldata = np.empty(shape=[0, 362])\n",
        "print(alldata.shape)\n",
        "all_csvs = glob.glob('/content/sample_data/mit-bih/*.csv')\n",
        "print(all_csvs)\n",
        "for j in all_csvs:\n",
        "    \n",
        "    print('Loading ', j)\n",
        "    csvrows = np.loadtxt(j, delimiter=',')\n",
        "    alldata = np.append(alldata, csvrows, axis=0)\n",
        "    \n",
        "print(alldata.shape)"
      ]
    },
    {
      "cell_type": "code",
      "execution_count": null,
      "metadata": {
        "colab": {
          "base_uri": "https://localhost:8080/"
        },
        "id": "geNNPUgFBAo0",
        "outputId": "a2047412-d427-4571-d459-0dd224c86f9f"
      },
      "outputs": [
        {
          "output_type": "stream",
          "name": "stdout",
          "text": [
            "(172288, 362)\n",
            "(43073, 362)\n"
          ]
        }
      ],
      "source": [
        "# print(alldata.shape)\n",
        "\n",
        "from sklearn.model_selection import train_test_split\n",
        "train, test = train_test_split(alldata,test_size=0.20,random_state=48)\n",
        "\n",
        "print(train.shape)\n",
        "print(test.shape)"
      ]
    },
    {
      "cell_type": "code",
      "execution_count": null,
      "metadata": {
        "id": "mJBAYF3DBDT3"
      },
      "outputs": [],
      "source": [
        "with open('/content/sample_data/mit-bih/all_data.csv', \"wb\") as fin:\n",
        "    np.savetxt(fin, alldata, delimiter=\",\", fmt='%f')"
      ]
    },
    {
      "cell_type": "code",
      "execution_count": null,
      "metadata": {
        "id": "ZCCfTqoGBLLc"
      },
      "outputs": [],
      "source": [
        "with open('/content/sample_data/mit-bih/train_unsampled_all.csv', \"wb\") as fin:\n",
        "    np.savetxt(fin, train, delimiter=\",\", fmt='%f')"
      ]
    },
    {
      "cell_type": "code",
      "execution_count": null,
      "metadata": {
        "id": "pADR3shyBPdF"
      },
      "outputs": [],
      "source": [
        "with open('/content/sample_data/mit-bih/test_unsampled_all.csv', \"wb\") as fin:\n",
        "    np.savetxt(fin, test, delimiter=\",\", fmt='%f')"
      ]
    },
    {
      "cell_type": "code",
      "execution_count": null,
      "metadata": {
        "colab": {
          "base_uri": "https://localhost:8080/"
        },
        "id": "1OGumhctP7qh",
        "outputId": "ab457d99-07d4-4b2b-9a8b-ae4e71539b18"
      },
      "outputs": [
        {
          "output_type": "stream",
          "name": "stdout",
          "text": [
            "(172285, 362)\n"
          ]
        }
      ],
      "source": [
        "from sklearn.utils import resample\n",
        "\n",
        "N = train[train[:,-2]==0.0]\n",
        "S = train[train[:,-2]==1.0]\n",
        "F = train[train[:,-2]==2.0]\n",
        "V = train[train[:,-2]==3.0]\n",
        "\n",
        "\n",
        "Q = train[train[:,-2]==4.0]\n",
        "\n",
        "\n",
        "seed=42\n",
        "np.random.seed(seed)\n",
        "def downsample(arr, n, seed):\n",
        "    downsampled = resample(arr,replace=False,n_samples=n, random_state=seed)\n",
        "    return downsampled\n",
        "\n",
        "def upsample(arr, n, seed):\n",
        "    upsampled = resample(arr,replace=True,n_samples=n,random_state=seed)\n",
        "    return upsampled\n",
        "\n",
        "all_class = [N,S,F,V,Q]\n",
        "abn_class = [N,S,F,V,Q]\n",
        "\n",
        "mean_val = np.mean([len(i) for i in abn_class], dtype= int)\n",
        "train_sampled = []\n",
        "\n",
        "for i in all_class:\n",
        "    if i.shape[0]> mean_val:\n",
        "        i = downsample(i,mean_val,seed)\n",
        "    elif i.shape[0]< mean_val:\n",
        "        i = upsample(i, mean_val,seed)\n",
        "    train_sampled.append(i)\n",
        "    \n",
        "train_sampled = np.concatenate(train_sampled)\n",
        "np.random.shuffle(train_sampled)\n",
        "train_sampled_all = train_sampled\n",
        "print(train_sampled_all.shape)\n",
        "with open('/content/sample_data/mit-bih/train_sampled_all.csv', \"wb\") as fin:\n",
        "    np.savetxt(fin, train_sampled_all, delimiter=\",\", fmt='%f')"
      ]
    },
    {
      "cell_type": "code",
      "execution_count": null,
      "metadata": {
        "colab": {
          "base_uri": "https://localhost:8080/",
          "height": 893
        },
        "id": "i3WaqcpsrMpY",
        "outputId": "7af5d1d6-dfb7-49b3-ba26-fcfef8405237"
      },
      "outputs": [
        {
          "output_type": "display_data",
          "data": {
            "text/plain": [
              "<Figure size 720x360 with 1 Axes>"
            ],
            "image/png": "[encoded data removed]"
          },
          "metadata": {}
        },
        {
          "output_type": "error",
          "ename": "AttributeError",
          "evalue": "ignored",
          "traceback": [
            "\u001b[0;31m---------------------------------------------------------------------------\u001b[0m",
            "\u001b[0;31mAttributeError\u001b[0m                            Traceback (most recent call last)",
            "\u001b[0;32m<ipython-input-38-8253b096a9f5>\u001b[0m in \u001b[0;36m<module>\u001b[0;34m\u001b[0m\n\u001b[1;32m     33\u001b[0m       \u001b[0mplt\u001b[0m\u001b[0;34m.\u001b[0m\u001b[0mtext\u001b[0m\u001b[0;34m(\u001b[0m\u001b[0mbar\u001b[0m\u001b[0;34m.\u001b[0m\u001b[0mget_x\u001b[0m\u001b[0;34m(\u001b[0m\u001b[0;34m)\u001b[0m\u001b[0;34m+\u001b[0m\u001b[0;36m.2\u001b[0m\u001b[0;34m,\u001b[0m \u001b[0myval\u001b[0m\u001b[0;34m+\u001b[0m\u001b[0;36m30\u001b[0m\u001b[0;34m,\u001b[0m \u001b[0myval\u001b[0m\u001b[0;34m)\u001b[0m\u001b[0;34m\u001b[0m\u001b[0;34m\u001b[0m\u001b[0m\n\u001b[1;32m     34\u001b[0m \u001b[0max\u001b[0m\u001b[0;34m=\u001b[0m\u001b[0mplt\u001b[0m\u001b[0;34m.\u001b[0m\u001b[0mplot\u001b[0m\u001b[0;34m(\u001b[0m\u001b[0;34m)\u001b[0m\u001b[0;34m\u001b[0m\u001b[0;34m\u001b[0m\u001b[0m\n\u001b[0;32m---> 35\u001b[0;31m \u001b[0max\u001b[0m\u001b[0;34m.\u001b[0m\u001b[0myaxis\u001b[0m\u001b[0;34m.\u001b[0m\u001b[0mset_major_formatter\u001b[0m\u001b[0;34m(\u001b[0m\u001b[0mplt\u001b[0m\u001b[0;34m.\u001b[0m\u001b[0mticker\u001b[0m\u001b[0;34m.\u001b[0m\u001b[0mStrMethodFormatter\u001b[0m\u001b[0;34m(\u001b[0m\u001b[0;34m'{x:,.0f}'\u001b[0m\u001b[0;34m)\u001b[0m\u001b[0;34m)\u001b[0m\u001b[0;34m\u001b[0m\u001b[0;34m\u001b[0m\u001b[0m\n\u001b[0m\u001b[1;32m     36\u001b[0m \u001b[0mplt\u001b[0m\u001b[0;34m.\u001b[0m\u001b[0mshow\u001b[0m\u001b[0;34m(\u001b[0m\u001b[0;34m)\u001b[0m\u001b[0;34m\u001b[0m\u001b[0;34m\u001b[0m\u001b[0m\n",
            "\u001b[0;31mAttributeError\u001b[0m: 'list' object has no attribute 'yaxis'"
          ]
        },
        {
          "output_type": "display_data",
          "data": {
            "text/plain": [
              "<Figure size 720x360 with 1 Axes>"
            ],
            "image/png": "[encoded data removed]"
          },
          "metadata": {}
        }
      ],
      "source": [
        "feature_names = ['N','S','F','V','Q']\n",
        "\n",
        "dftrain = pd.DataFrame(train)\n",
        "countstrain = dftrain[360].value_counts()\n",
        "\n",
        "plt.figure(figsize=(10,5))\n",
        "barplt = plt.bar(countstrain.index, countstrain.values, alpha=0.8, color='cyan')\n",
        "plt.title('Training Unsampled Label Count')\n",
        "plt.ylabel('Number of Occurrences', fontsize=12)\n",
        "plt.xlabel('Heartbeat Category', fontsize=12)\n",
        "plt.xticks(ticks=[0,1,2,3,4],labels=feature_names)\n",
        "for bar in barplt:\n",
        "    yval = bar.get_height()\n",
        "    plt.text(bar.get_x()+.2, yval+1000, yval)\n",
        "plt.show()\n",
        "\n",
        "df_sampled = pd.DataFrame(train_sampled_all)\n",
        "counts = df_sampled[360].value_counts()\n",
        "\n",
        "plt.figure(figsize=(10,5))\n",
        "barplt = plt.bar(counts.index, counts.values, alpha=0.8, color='orange')\n",
        "plt.title('Training Sampled Label Count')\n",
        "plt.ylabel('Number of Occurrences', fontsize=12)\n",
        "plt.xlabel('Heartbeat Category', fontsize=12)\n",
        "\n",
        "plt.xticks(ticks=[0,1,2,3,4],labels=feature_names)\n",
        "for bar in barplt:\n",
        "    yval = bar.get_height()\n",
        "    if yval>9999:\n",
        "       yval2='{:,}'.format(yval)\n",
        "       plt.text(bar.get_x()+.2, yval+30, yval2)\n",
        "    else:\n",
        "      plt.text(bar.get_x()+.2, yval+30, yval)\n",
        "ax=plt.plot()\n",
        "ax.yaxis.set_major_formatter(plt.ticker.StrMethodFormatter('{x:,.0f}'))    \n",
        "plt.show()"
      ]
    },
    {
      "cell_type": "code",
      "source": [],
      "metadata": {
        "id": "erOVuUpvn8XX"
      },
      "execution_count": null,
      "outputs": []
    },
    {
      "cell_type": "code",
      "execution_count": null,
      "metadata": {
        "colab": {
          "base_uri": "https://localhost:8080/"
        },
        "id": "Z8C1kp5VuRFA",
        "outputId": "7ae66bd4-89b2-4fd3-f24d-5d4707d32933"
      },
      "outputs": [
        {
          "output_type": "stream",
          "name": "stdout",
          "text": [
            "Loading  /content/sample_data/mit-bih/train_sampled_all.csv\n",
            "Loading  /content/sample_data/mit-bih/test_unsampled_all.csv\n",
            "(172285, 362)\n",
            "(43073, 362)\n"
          ]
        }
      ],
      "source": [
        "import numpy as np\n",
        "import glob\n",
        "import matplotlib.pyplot as plt\n",
        "import pandas as pd\n",
        "from scipy import *\n",
        "\n",
        "\n",
        "\n",
        "train_values = np.empty(shape=[0, 362])\n",
        "test_values = np.empty(shape=[0, 362])\n",
        "\n",
        "train_sampled_all = glob.glob('/content/sample_data/mit-bih/train_sampled_all.csv')\n",
        "test_unsampled_all = glob.glob('/content/sample_data/mit-bih/test_unsampled_all.csv')\n",
        "\n",
        "\n",
        "for j in train_sampled_all:\n",
        "    print('Loading ', j)\n",
        "    csvrows = np.loadtxt(j, delimiter=',')\n",
        "    train_values = np.append(train_values, csvrows, axis=0)\n",
        "\n",
        "for j in test_unsampled_all:\n",
        "    print('Loading ', j)\n",
        "    csvrows = np.loadtxt(j, delimiter=',')\n",
        "    test_values = np.append(test_values, csvrows, axis=0)\n",
        "    \n",
        "print(train_values.shape)\n",
        "print(test_values.shape)"
      ]
    },
    {
      "cell_type": "code",
      "source": [
        "import numpy as np\n",
        "import pandas as pd\n",
        "import os\n",
        "import tensorflow as tf\n",
        "from tensorflow import keras\n",
        "from keras import layers\n",
        "import seaborn as sns\n",
        "import matplotlib.pyplot as plt\n",
        "from pylab import rcParams\n",
        "\n",
        "from sklearn.metrics import accuracy_score, f1_score, precision_score, recall_score, classification_report, confusion_matrix\n",
        "from sklearn.model_selection import cross_val_score, GridSearchCV, RandomizedSearchCV\n",
        "from keras.wrappers.scikit_learn import KerasClassifier\n",
        "from sklearn.model_selection import StratifiedKFold\n",
        "from sklearn.model_selection import train_test_split\n",
        "from sklearn.metrics import f1_score\n",
        "from keras.utils.np_utils import to_categorical\n",
        "from sklearn.utils import class_weight\n",
        "from sklearn.metrics import log_loss\n",
        "\n",
        "sns.set()"
      ],
      "metadata": {
        "id": "5MGmFOu6sG4v"
      },
      "execution_count": null,
      "outputs": []
    },
    {
      "cell_type": "code",
      "source": [
        "X_train = train_values[:,:-2]\n",
        "X_test = test_values[:,:-2]\n",
        "\n",
        "y_train = train_values[:,-2]\n",
        "y_test = test_values[:,-2]\n",
        "print(X_train.shape)\n",
        "print(y_train.shape)"
      ],
      "metadata": {
        "colab": {
          "base_uri": "https://localhost:8080/"
        },
        "id": "2_j2MvqFqA_P",
        "outputId": "d47653fb-2c70-41ba-9f3b-f219663e9e04"
      },
      "execution_count": null,
      "outputs": [
        {
          "output_type": "stream",
          "name": "stdout",
          "text": [
            "(172285, 360)\n",
            "(172285,)\n"
          ]
        }
      ]
    },
    {
      "cell_type": "code",
      "source": [
        "X_train1 = X_train.reshape((X_train.shape[0], X_train.shape[1], 1))\n",
        "X_test1 = X_test.reshape((X_test.shape[0], X_test.shape[1], 1))\n",
        "y_train=to_categorical(y_train)\n",
        "y_test=to_categorical(y_test)\n",
        "print(X_train1.shape)\n",
        "print(X_test1.shape)\n",
        "print(y_train.shape)"
      ],
      "metadata": {
        "colab": {
          "base_uri": "https://localhost:8080/"
        },
        "id": "DBsgaK1Nr50p",
        "outputId": "002757d9-35ec-4373-c739-6670d777379f"
      },
      "execution_count": null,
      "outputs": [
        {
          "output_type": "stream",
          "name": "stdout",
          "text": [
            "(172285, 360, 1)\n",
            "(43073, 360, 1)\n",
            "(172285, 5)\n"
          ]
        }
      ]
    },
    {
      "cell_type": "code",
      "source": [
        "def transformer_encoder(inputs, head_size, num_heads, ff_dim, dropout=0):\n",
        "    # Normalization and Attention\n",
        "    x = layers.LayerNormalization(epsilon=1e-6)(inputs)\n",
        "    x = layers.MultiHeadAttention(\n",
        "        key_dim=head_size, num_heads=num_heads, dropout=dropout\n",
        "    )(x, x)\n",
        "    x = layers.Dropout(dropout)(x)\n",
        "    res = x + inputs\n",
        "\n",
        "    # Feed Forward Part\n",
        "    x = layers.LayerNormalization(epsilon=1e-6)(res)\n",
        "    x = layers.Conv1D(filters=ff_dim, kernel_size=1, activation=\"relu\")(x)\n",
        "    x = layers.Dropout(dropout)(x)\n",
        "    x = layers.Conv1D(filters=inputs.shape[-1], kernel_size=1)(x)\n",
        "    return x + res"
      ],
      "metadata": {
        "id": "2zTZYGPh-6GX"
      },
      "execution_count": null,
      "outputs": []
    },
    {
      "cell_type": "code",
      "source": [
        "import keras\n",
        "from keras import layers\n",
        "from keras.models import Sequential\n",
        "from keras.layers import Conv1D, AvgPool1D, Flatten, Dense, Dropout, Softmax\n",
        "from keras.layers import Input, Dense, Dropout, Activation, ZeroPadding2D, BatchNormalization, Flatten, Conv2D, Embedding, Add, MaxPool1D,ZeroPadding1D, LSTM\n",
        "from keras.optimizers import Adam \n",
        "from keras.utils.np_utils import to_categorical\n",
        "from keras.utils.vis_utils import plot_model\n",
        "from keras import regularizers\n",
        "from keras.models import Sequential, Model\n"
      ],
      "metadata": {
        "id": "aWbcLnFUsxS2"
      },
      "execution_count": null,
      "outputs": []
    },
    {
      "cell_type": "code",
      "source": [
        "def build_model(\n",
        "    input_shape,\n",
        "    head_size,\n",
        "    num_heads,\n",
        "    ff_dim,\n",
        "    num_transformer_blocks,\n",
        "    mlp_units,\n",
        "    dropout=0,\n",
        "    mlp_dropout=0,\n",
        "):\n",
        "    inputs = keras.Input(shape=input_shape)\n",
        "    conv1 = inputs\n",
        "    conv1 = keras.layers.Conv1D(filters=64, kernel_size=14, padding=\"same\",activation=\"relu\")(conv1)\n",
        "    # conv1 = keras.layers.BatchNormalization()(conv1)\n",
        "    conv2 = keras.layers.Conv1D(filters=32, kernel_size=10, padding=\"same\",activation=\"relu\")(conv1)\n",
        "    # conv2 = keras.layers.BatchNormalization()(conv2)\n",
        "    conv3 = keras.layers.Conv1D(filters=16, kernel_size=10, padding=\"same\",activation=\"relu\")(conv2)\n",
        "    # conv3 = keras.layers.BatchNormalization()(conv3)\n",
        "    x=conv3\n",
        "    for _ in range(num_transformer_blocks):\n",
        "        x = transformer_encoder(x, head_size, num_heads, ff_dim, dropout)\n",
        "\n",
        "    x = layers.GlobalAveragePooling1D(data_format=\"channels_first\")(x)\n",
        "    for dim in mlp_units:\n",
        "        x = layers.Dense(dim, activation=\"relu\")(x)\n",
        "        x = layers.Dropout(mlp_dropout)(x)\n",
        "    \n",
        "    cnn_trans=x\n",
        "    input_layer=inputs\n",
        "    y=input_layer\n",
        "    y=(layers.Bidirectional(LSTM(128,return_sequences=True)))(y)\n",
        "    y=(layers.Bidirectional(LSTM(128, return_sequences=True)))(y)\n",
        "\n",
        "    # y=layers.MaxPooling1D(2)(y)\n",
        "    y=(layers.Dense(352, activation='relu'))(y)\n",
        "    y=(layers.Dense(100, activation='relu'))(y)\n",
        "    y=(layers.Dense(32, activation='relu'))(y)\n",
        "\n",
        "\n",
        "    y=layers.GlobalAveragePooling1D()(y)\n",
        "    blstm_out=y\n",
        "    merge=layers.concatenate([cnn_trans,blstm_out])\n",
        "\n",
        "    z=merge\n",
        "    # z = layers.Dense(352, activation=\"relu\")(z)\n",
        "    # z = layers.Dense(100, activation=\"relu\")(z)\n",
        "    # z = layers.Dense(32, activation=\"relu\")(z)\n",
        "    outputs = layers.Dense(5, activation=\"softmax\")(z)\n",
        "    return keras.Model(inputs, outputs)"
      ],
      "metadata": {
        "id": "3bQaGiLk-9fN"
      },
      "execution_count": null,
      "outputs": []
    },
    {
      "cell_type": "code",
      "source": [
        "input_shape = (X_train1.shape[1:])\n",
        "print(input_shape)\n",
        "\n",
        "model = build_model(\n",
        "    input_shape,\n",
        "    head_size=256,\n",
        "    num_heads=8,\n",
        "    ff_dim=4,\n",
        "    num_transformer_blocks=4,\n",
        "    mlp_units=[1012],\n",
        "    mlp_dropout=0,\n",
        "    dropout=0.15,\n",
        ")\n",
        "# lr_schedule = keras.optimizers.schedules.ExponentialDecay(\n",
        "#     initial_learning_rate=1e-2,\n",
        "#     decay_steps=10000,\n",
        "#     decay_rate=0.9)\n",
        "model.compile(\n",
        "    loss=\"categorical_crossentropy\",\n",
        "    # optimizer=keras.optimizers.Adam(learning_rate=1e-6),\n",
        "    optimizer=\"adam\",\n",
        "    metrics=[\"accuracy\"]\n",
        ")\n",
        "model.summary()\n",
        "\n",
        "callbacks = [keras.callbacks.EarlyStopping(patience=10, \\\n",
        "    restore_best_weights=True),\n",
        "keras.callbacks.ModelCheckpoint(\n",
        "        \"best_model.h5\", save_best_only=True, monitor=\"val_accuracy\"\n",
        "),\n",
        "    keras.callbacks.ReduceLROnPlateau(\n",
        "        monitor=\"val_loss\", factor=0.5, patience=10, min_lr=0.000001\n",
        "    )\n",
        "    ]\n",
        "\n",
        "\n",
        "# model.evaluate(test_x, test_y, verbose=1)"
      ],
      "metadata": {
        "id": "GJGmhKl6_CBV",
        "colab": {
          "base_uri": "https://localhost:8080/"
        },
        "outputId": "bd8c556e-4cd1-4e8a-f252-7695fbf5f3d7"
      },
      "execution_count": null,
      "outputs": [
        {
          "output_type": "stream",
          "name": "stdout",
          "text": [
            "(360, 1)\n",
            "Model: \"model\"\n",
            "__________________________________________________________________________________________________\n",
            " Layer (type)                   Output Shape         Param #     Connected to                     \n",
            "==================================================================================================\n",
            " input_1 (InputLayer)           [(None, 360, 1)]     0           []                               \n",
            "                                                                                                  \n",
            " conv1d (Conv1D)                (None, 360, 64)      960         ['input_1[0][0]']                \n",
            "                                                                                                  \n",
            " conv1d_1 (Conv1D)              (None, 360, 32)      20512       ['conv1d[0][0]']                 \n",
            "                                                                                                  \n",
            " conv1d_2 (Conv1D)              (None, 360, 16)      5136        ['conv1d_1[0][0]']               \n",
            "                                                                                                  \n",
            " layer_normalization (LayerNorm  (None, 360, 16)     32          ['conv1d_2[0][0]']               \n",
            " alization)                                                                                       \n",
            "                                                                                                  \n",
            " multi_head_attention (MultiHea  (None, 360, 16)     137232      ['layer_normalization[0][0]',    \n",
            " dAttention)                                                      'layer_normalization[0][0]']    \n",
            "                                                                                                  \n",
            " dropout (Dropout)              (None, 360, 16)      0           ['multi_head_attention[0][0]']   \n",
            "                                                                                                  \n",
            " tf.__operators__.add (TFOpLamb  (None, 360, 16)     0           ['dropout[0][0]',                \n",
            " da)                                                              'conv1d_2[0][0]']               \n",
            "                                                                                                  \n",
            " layer_normalization_1 (LayerNo  (None, 360, 16)     32          ['tf.__operators__.add[0][0]']   \n",
            " rmalization)                                                                                     \n",
            "                                                                                                  \n",
            " conv1d_3 (Conv1D)              (None, 360, 4)       68          ['layer_normalization_1[0][0]']  \n",
            "                                                                                                  \n",
            " dropout_1 (Dropout)            (None, 360, 4)       0           ['conv1d_3[0][0]']               \n",
            "                                                                                                  \n",
            " conv1d_4 (Conv1D)              (None, 360, 16)      80          ['dropout_1[0][0]']              \n",
            "                                                                                                  \n",
            " tf.__operators__.add_1 (TFOpLa  (None, 360, 16)     0           ['conv1d_4[0][0]',               \n",
            " mbda)                                                            'tf.__operators__.add[0][0]']   \n",
            "                                                                                                  \n",
            " layer_normalization_2 (LayerNo  (None, 360, 16)     32          ['tf.__operators__.add_1[0][0]'] \n",
            " rmalization)                                                                                     \n",
            "                                                                                                  \n",
            " multi_head_attention_1 (MultiH  (None, 360, 16)     137232      ['layer_normalization_2[0][0]',  \n",
            " eadAttention)                                                    'layer_normalization_2[0][0]']  \n",
            "                                                                                                  \n",
            " dropout_2 (Dropout)            (None, 360, 16)      0           ['multi_head_attention_1[0][0]'] \n",
            "                                                                                                  \n",
            " tf.__operators__.add_2 (TFOpLa  (None, 360, 16)     0           ['dropout_2[0][0]',              \n",
            " mbda)                                                            'tf.__operators__.add_1[0][0]'] \n",
            "                                                                                                  \n",
            " layer_normalization_3 (LayerNo  (None, 360, 16)     32          ['tf.__operators__.add_2[0][0]'] \n",
            " rmalization)                                                                                     \n",
            "                                                                                                  \n",
            " conv1d_5 (Conv1D)              (None, 360, 4)       68          ['layer_normalization_3[0][0]']  \n",
            "                                                                                                  \n",
            " dropout_3 (Dropout)            (None, 360, 4)       0           ['conv1d_5[0][0]']               \n",
            "                                                                                                  \n",
            " conv1d_6 (Conv1D)              (None, 360, 16)      80          ['dropout_3[0][0]']              \n",
            "                                                                                                  \n",
            " tf.__operators__.add_3 (TFOpLa  (None, 360, 16)     0           ['conv1d_6[0][0]',               \n",
            " mbda)                                                            'tf.__operators__.add_2[0][0]'] \n",
            "                                                                                                  \n",
            " layer_normalization_4 (LayerNo  (None, 360, 16)     32          ['tf.__operators__.add_3[0][0]'] \n",
            " rmalization)                                                                                     \n",
            "                                                                                                  \n",
            " multi_head_attention_2 (MultiH  (None, 360, 16)     137232      ['layer_normalization_4[0][0]',  \n",
            " eadAttention)                                                    'layer_normalization_4[0][0]']  \n",
            "                                                                                                  \n",
            " dropout_4 (Dropout)            (None, 360, 16)      0           ['multi_head_attention_2[0][0]'] \n",
            "                                                                                                  \n",
            " tf.__operators__.add_4 (TFOpLa  (None, 360, 16)     0           ['dropout_4[0][0]',              \n",
            " mbda)                                                            'tf.__operators__.add_3[0][0]'] \n",
            "                                                                                                  \n",
            " layer_normalization_5 (LayerNo  (None, 360, 16)     32          ['tf.__operators__.add_4[0][0]'] \n",
            " rmalization)                                                                                     \n",
            "                                                                                                  \n",
            " conv1d_7 (Conv1D)              (None, 360, 4)       68          ['layer_normalization_5[0][0]']  \n",
            "                                                                                                  \n",
            " dropout_5 (Dropout)            (None, 360, 4)       0           ['conv1d_7[0][0]']               \n",
            "                                                                                                  \n",
            " conv1d_8 (Conv1D)              (None, 360, 16)      80          ['dropout_5[0][0]']              \n",
            "                                                                                                  \n",
            " tf.__operators__.add_5 (TFOpLa  (None, 360, 16)     0           ['conv1d_8[0][0]',               \n",
            " mbda)                                                            'tf.__operators__.add_4[0][0]'] \n",
            "                                                                                                  \n",
            " layer_normalization_6 (LayerNo  (None, 360, 16)     32          ['tf.__operators__.add_5[0][0]'] \n",
            " rmalization)                                                                                     \n",
            "                                                                                                  \n",
            " multi_head_attention_3 (MultiH  (None, 360, 16)     137232      ['layer_normalization_6[0][0]',  \n",
            " eadAttention)                                                    'layer_normalization_6[0][0]']  \n",
            "                                                                                                  \n",
            " dropout_6 (Dropout)            (None, 360, 16)      0           ['multi_head_attention_3[0][0]'] \n",
            "                                                                                                  \n",
            " tf.__operators__.add_6 (TFOpLa  (None, 360, 16)     0           ['dropout_6[0][0]',              \n",
            " mbda)                                                            'tf.__operators__.add_5[0][0]'] \n",
            "                                                                                                  \n",
            " layer_normalization_7 (LayerNo  (None, 360, 16)     32          ['tf.__operators__.add_6[0][0]'] \n",
            " rmalization)                                                                                     \n",
            "                                                                                                  \n",
            " conv1d_9 (Conv1D)              (None, 360, 4)       68          ['layer_normalization_7[0][0]']  \n",
            "                                                                                                  \n",
            " dropout_7 (Dropout)            (None, 360, 4)       0           ['conv1d_9[0][0]']               \n",
            "                                                                                                  \n",
            " bidirectional (Bidirectional)  (None, 360, 256)     133120      ['input_1[0][0]']                \n",
            "                                                                                                  \n",
            " conv1d_10 (Conv1D)             (None, 360, 16)      80          ['dropout_7[0][0]']              \n",
            "                                                                                                  \n",
            " bidirectional_1 (Bidirectional  (None, 360, 256)    394240      ['bidirectional[0][0]']          \n",
            " )                                                                                                \n",
            "                                                                                                  \n",
            " tf.__operators__.add_7 (TFOpLa  (None, 360, 16)     0           ['conv1d_10[0][0]',              \n",
            " mbda)                                                            'tf.__operators__.add_6[0][0]'] \n",
            "                                                                                                  \n",
            " dense_1 (Dense)                (None, 360, 352)     90464       ['bidirectional_1[0][0]']        \n",
            "                                                                                                  \n",
            " global_average_pooling1d (Glob  (None, 360)         0           ['tf.__operators__.add_7[0][0]'] \n",
            " alAveragePooling1D)                                                                              \n",
            "                                                                                                  \n",
            " dense_2 (Dense)                (None, 360, 100)     35300       ['dense_1[0][0]']                \n",
            "                                                                                                  \n",
            " dense (Dense)                  (None, 1012)         365332      ['global_average_pooling1d[0][0]'\n",
            "                                                                 ]                                \n",
            "                                                                                                  \n",
            " dense_3 (Dense)                (None, 360, 32)      3232        ['dense_2[0][0]']                \n",
            "                                                                                                  \n",
            " dropout_8 (Dropout)            (None, 1012)         0           ['dense[0][0]']                  \n",
            "                                                                                                  \n",
            " global_average_pooling1d_1 (Gl  (None, 32)          0           ['dense_3[0][0]']                \n",
            " obalAveragePooling1D)                                                                            \n",
            "                                                                                                  \n",
            " concatenate (Concatenate)      (None, 1044)         0           ['dropout_8[0][0]',              \n",
            "                                                                  'global_average_pooling1d_1[0][0\n",
            "                                                                 ]']                              \n",
            "                                                                                                  \n",
            " dense_4 (Dense)                (None, 5)            5225        ['concatenate[0][0]']            \n",
            "                                                                                                  \n",
            "==================================================================================================\n",
            "Total params: 1,603,297\n",
            "Trainable params: 1,603,297\n",
            "Non-trainable params: 0\n",
            "__________________________________________________________________________________________________\n"
          ]
        }
      ]
    },
    {
      "cell_type": "code",
      "source": [
        "history_new=model.fit(\n",
        "    X_train1,\n",
        "    y_train,\n",
        "    validation_split=0.2,\n",
        "    epochs=5,\n",
        "    batch_size=64,\n",
        "    callbacks=callbacks,\n",
        "   \n",
        ")\n"
      ],
      "metadata": {
        "colab": {
          "base_uri": "https://localhost:8080/"
        },
        "id": "aouttAXItReQ",
        "outputId": "d16dae62-0eda-4faa-a9b8-3cf1fa064bf2"
      },
      "execution_count": null,
      "outputs": [
        {
          "output_type": "stream",
          "name": "stdout",
          "text": [
            "Epoch 1/5\n",
            "1551/2154 [====================>.........] - ETA: 6:28 - loss: 0.3223 - accuracy: 0.8861"
          ]
        }
      ]
    },
    {
      "cell_type": "code",
      "source": [
        "plt.plot(history_new.history['loss'])\n",
        "plt.plot(history_new.history['val_loss'])\n",
        "plt.title('Proposed Framework')\n",
        "plt.ylabel('loss')\n",
        "plt.xlabel('epoch')\n",
        "plt.legend(['train', 'validation'], loc='upper left')\n",
        "plt.savefig('cusModelloss.png')\n",
        "plt.show()\n"
      ],
      "metadata": {
        "id": "pYzA2I2hJSnb"
      },
      "execution_count": null,
      "outputs": []
    },
    {
      "cell_type": "code",
      "source": [
        "plt.plot(history_new.history['accuracy'])\n",
        "plt.plot(history_new.history['val_accuracy'])\n",
        "plt.title('Proposed Framework')\n",
        "plt.ylabel('accuracy')\n",
        "plt.xlabel('epoch')\n",
        "plt.legend(['train', 'validation'], loc='upper left')\n",
        "plt.savefig('CustModelAcc.png')\n",
        "plt.show()"
      ],
      "metadata": {
        "id": "QOKmjJfkt_ee"
      },
      "execution_count": null,
      "outputs": []
    },
    {
      "cell_type": "code",
      "source": [
        "model = keras.models.load_model(\"best_model.h5\")"
      ],
      "metadata": {
        "id": "MQXKULHkuEdp"
      },
      "execution_count": null,
      "outputs": []
    },
    {
      "cell_type": "code",
      "source": [
        "test_loss, test_acc = model.evaluate(X_test1, y_test)"
      ],
      "metadata": {
        "id": "bLUeNQ96uGv8"
      },
      "execution_count": null,
      "outputs": []
    },
    {
      "cell_type": "code",
      "source": [
        "y_true=[]\n",
        "for element in y_test:\n",
        "    y_true.append(np.argmax(element))\n",
        "prediction_proba=model.predict(X_test1)\n",
        "prediction=np.argmax(prediction_proba,axis=1)\n",
        "\n",
        "custCnnConfMat = confusion_matrix(y_true, prediction,labels=[0,1,2,3,4])\n",
        "print(\"Confusion matrix\",custCnnConfMat)\n",
        "report=classification_report(y_true, prediction, digits=3)\n",
        "print(\"Report\", report)\n",
        "sns.heatmap(custCnnConfMat/np.sum(custCnnConfMat), annot=True,fmt='.3%', cmap='YlGnBu')\n",
        "plt.savefig('custCnnconfMat.png')"
      ],
      "metadata": {
        "id": "ObZxZ31HuMGv"
      },
      "execution_count": null,
      "outputs": []
    },
    {
      "cell_type": "code",
      "source": [
        "# from matplotlib.pyplot import figure\n",
        "# figure(figsize=(4,4),dpi=80)\n",
        "new_beat=X_test1[41]\n",
        "new_label=y_test[41]\n",
        "# print(test_y)\n",
        "print(new_label)\n",
        "plt.plot(new_beat,color=\"black\",label=\"ann=N\")\n",
        "plt.xlabel(\"Time[s]\")\n",
        "plt.legend()\n",
        "plt.savefig(\"n-beat.png\")\n",
        "\n",
        "plt.show()"
      ],
      "metadata": {
        "id": "Sd3FHwpCudwW"
      },
      "execution_count": null,
      "outputs": []
    }
  ]
}